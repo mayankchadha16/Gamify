{
 "cells": [
  {
   "cell_type": "code",
   "execution_count": 1,
   "id": "3cf83a52",
   "metadata": {
    "execution": {
     "iopub.execute_input": "2023-04-24T15:59:57.930521Z",
     "iopub.status.busy": "2023-04-24T15:59:57.929491Z",
     "iopub.status.idle": "2023-04-24T15:59:59.042834Z",
     "shell.execute_reply": "2023-04-24T15:59:59.041415Z"
    },
    "papermill": {
     "duration": 1.13014,
     "end_time": "2023-04-24T15:59:59.046045",
     "exception": false,
     "start_time": "2023-04-24T15:59:57.915905",
     "status": "completed"
    },
    "tags": []
   },
   "outputs": [],
   "source": [
    "import pandas as pd\n",
    "import numpy as np\n",
    "import timeit\n",
    "\n",
    "from sklearn.feature_extraction.text import CountVectorizer\n",
    "from sklearn.metrics.pairwise import cosine_similarity\n",
    "from sklearn.feature_extraction.text import TfidfVectorizer\n",
    "\n",
    "from scipy.sparse import hstack\n",
    "\n",
    "\n",
    "pd.options.mode.chained_assignment = None  # default='warn'"
   ]
  },
  {
   "cell_type": "code",
   "execution_count": 2,
   "id": "60ccf203",
   "metadata": {
    "execution": {
     "iopub.execute_input": "2023-04-24T15:59:59.070393Z",
     "iopub.status.busy": "2023-04-24T15:59:59.069246Z",
     "iopub.status.idle": "2023-04-24T15:59:59.085190Z",
     "shell.execute_reply": "2023-04-24T15:59:59.084028Z"
    },
    "papermill": {
     "duration": 0.03041,
     "end_time": "2023-04-24T15:59:59.088184",
     "exception": false,
     "start_time": "2023-04-24T15:59:59.057774",
     "status": "completed"
    },
    "tags": []
   },
   "outputs": [],
   "source": [
    "def reduce_mem_usage(df):\n",
    "    \"\"\" iterate through all the columns of a dataframe and modify the data type\n",
    "        to reduce memory usage.        \n",
    "    \"\"\"\n",
    "    start_mem = df.memory_usage().sum() / 1024**2\n",
    "    print('Memory usage of dataframe is {:.2f} MB'.format(start_mem))\n",
    "    \n",
    "    for col in df.columns:\n",
    "        col_type = df[col].dtype\n",
    "        \n",
    "        if col_type != object:\n",
    "            c_min = df[col].min()\n",
    "            c_max = df[col].max()\n",
    "            if str(col_type)[:3] == 'int':\n",
    "                if c_min > np.iinfo(np.int8).min and c_max < np.iinfo(np.int8).max:\n",
    "                    df[col] = df[col].astype(np.int8)\n",
    "                elif c_min > np.iinfo(np.int16).min and c_max < np.iinfo(np.int16).max:\n",
    "                    df[col] = df[col].astype(np.int16)\n",
    "                elif c_min > np.iinfo(np.int32).min and c_max < np.iinfo(np.int32).max:\n",
    "                    df[col] = df[col].astype(np.int32)\n",
    "                elif c_min > np.iinfo(np.int64).min and c_max < np.iinfo(np.int64).max:\n",
    "                    df[col] = df[col].astype(np.int64)  \n",
    "            else:\n",
    "                if c_min > np.finfo(np.float16).min and c_max < np.finfo(np.float16).max:\n",
    "                    df[col] = df[col].astype(np.float16)\n",
    "                elif c_min > np.finfo(np.float32).min and c_max < np.finfo(np.float32).max:\n",
    "                    df[col] = df[col].astype(np.float32)\n",
    "                else:\n",
    "                    df[col] = df[col].astype(np.float64)\n",
    "        else:\n",
    "            df[col] = df[col].astype('category')\n",
    "\n",
    "    end_mem = df.memory_usage().sum() / 1024**2\n",
    "    print('Memory usage after optimization is: {:.2f} MB'.format(end_mem))\n",
    "    print('Decreased by {:.1f}%'.format(100 * (start_mem - end_mem) / start_mem))\n",
    "    \n",
    "    return df\n",
    "\n",
    "\n",
    "def import_data(file):\n",
    "    \"\"\"create a dataframe and optimize its memory usage\"\"\"\n",
    "    df = pd.read_csv(file, parse_dates=True, keep_date_col=True)\n",
    "    df = reduce_mem_usage(df)\n",
    "    return df"
   ]
  },
  {
   "cell_type": "code",
   "execution_count": 3,
   "id": "b7cf36c9",
   "metadata": {
    "execution": {
     "iopub.execute_input": "2023-04-24T15:59:59.109870Z",
     "iopub.status.busy": "2023-04-24T15:59:59.109398Z",
     "iopub.status.idle": "2023-04-24T16:00:00.929317Z",
     "shell.execute_reply": "2023-04-24T16:00:00.928000Z"
    },
    "papermill": {
     "duration": 1.83411,
     "end_time": "2023-04-24T16:00:00.932164",
     "exception": false,
     "start_time": "2023-04-24T15:59:59.098054",
     "status": "completed"
    },
    "tags": []
   },
   "outputs": [],
   "source": [
    "# Importing the files you want\n",
    "united_df = pd.read_csv('/kaggle/input/rs-final/clean_data.csv')\n",
    "# united_df = import_data('/kaggle/input/rs-final/clean_data.csv')"
   ]
  },
  {
   "cell_type": "code",
   "execution_count": 4,
   "id": "465f84f3",
   "metadata": {
    "execution": {
     "iopub.execute_input": "2023-04-24T16:00:00.956237Z",
     "iopub.status.busy": "2023-04-24T16:00:00.954958Z",
     "iopub.status.idle": "2023-04-24T16:00:00.993411Z",
     "shell.execute_reply": "2023-04-24T16:00:00.992025Z"
    },
    "papermill": {
     "duration": 0.054617,
     "end_time": "2023-04-24T16:00:00.996772",
     "exception": false,
     "start_time": "2023-04-24T16:00:00.942155",
     "status": "completed"
    },
    "tags": []
   },
   "outputs": [
    {
     "data": {
      "text/html": [
       "<div>\n",
       "<style scoped>\n",
       "    .dataframe tbody tr th:only-of-type {\n",
       "        vertical-align: middle;\n",
       "    }\n",
       "\n",
       "    .dataframe tbody tr th {\n",
       "        vertical-align: top;\n",
       "    }\n",
       "\n",
       "    .dataframe thead th {\n",
       "        text-align: right;\n",
       "    }\n",
       "</style>\n",
       "<table border=\"1\" class=\"dataframe\">\n",
       "  <thead>\n",
       "    <tr style=\"text-align: right;\">\n",
       "      <th></th>\n",
       "      <th>name</th>\n",
       "      <th>steam_appid</th>\n",
       "      <th>required_age</th>\n",
       "      <th>is_free</th>\n",
       "      <th>about_the_game</th>\n",
       "      <th>short_description</th>\n",
       "      <th>developers</th>\n",
       "      <th>platforms</th>\n",
       "      <th>release_date</th>\n",
       "      <th>positive</th>\n",
       "      <th>negative</th>\n",
       "      <th>owners</th>\n",
       "      <th>average_forever</th>\n",
       "      <th>median_forever</th>\n",
       "      <th>languages</th>\n",
       "      <th>tags</th>\n",
       "    </tr>\n",
       "  </thead>\n",
       "  <tbody>\n",
       "    <tr>\n",
       "      <th>0</th>\n",
       "      <td>Counter-Strike</td>\n",
       "      <td>10</td>\n",
       "      <td>0.0</td>\n",
       "      <td>False</td>\n",
       "      <td>Play the world's number 1 online action game. ...</td>\n",
       "      <td>Play the world's number 1 online action game. ...</td>\n",
       "      <td>['Valve']</td>\n",
       "      <td>{'windows': True, 'mac': True, 'linux': True}</td>\n",
       "      <td>{'coming_soon': False, 'date': '1 Nov, 2000'}</td>\n",
       "      <td>124534</td>\n",
       "      <td>3339</td>\n",
       "      <td>10000000-20000000</td>\n",
       "      <td>17612</td>\n",
       "      <td>317</td>\n",
       "      <td>English, French, German, Italian, Spanish - Sp...</td>\n",
       "      <td>Action;FPS;Multiplayer</td>\n",
       "    </tr>\n",
       "    <tr>\n",
       "      <th>1</th>\n",
       "      <td>Team Fortress Classic</td>\n",
       "      <td>20</td>\n",
       "      <td>0.0</td>\n",
       "      <td>False</td>\n",
       "      <td>One of the most popular online action games of...</td>\n",
       "      <td>One of the most popular online action games of...</td>\n",
       "      <td>['Valve']</td>\n",
       "      <td>{'windows': True, 'mac': True, 'linux': True}</td>\n",
       "      <td>{'coming_soon': False, 'date': '1 Apr, 1999'}</td>\n",
       "      <td>3318</td>\n",
       "      <td>633</td>\n",
       "      <td>5000000-10000000</td>\n",
       "      <td>277</td>\n",
       "      <td>62</td>\n",
       "      <td>English, French, German, Italian, Spanish - Sp...</td>\n",
       "      <td>Action;FPS;Multiplayer</td>\n",
       "    </tr>\n",
       "    <tr>\n",
       "      <th>2</th>\n",
       "      <td>Day of Defeat</td>\n",
       "      <td>30</td>\n",
       "      <td>0.0</td>\n",
       "      <td>False</td>\n",
       "      <td>Enlist in an intense brand of Axis vs. Allied ...</td>\n",
       "      <td>Enlist in an intense brand of Axis vs. Allied ...</td>\n",
       "      <td>['Valve']</td>\n",
       "      <td>{'windows': True, 'mac': True, 'linux': True}</td>\n",
       "      <td>{'coming_soon': False, 'date': '1 May, 2003'}</td>\n",
       "      <td>3416</td>\n",
       "      <td>398</td>\n",
       "      <td>5000000-10000000</td>\n",
       "      <td>187</td>\n",
       "      <td>34</td>\n",
       "      <td>English, French, German, Italian, Spanish - Spain</td>\n",
       "      <td>FPS;World War II;Multiplayer</td>\n",
       "    </tr>\n",
       "    <tr>\n",
       "      <th>3</th>\n",
       "      <td>Deathmatch Classic</td>\n",
       "      <td>40</td>\n",
       "      <td>0.0</td>\n",
       "      <td>False</td>\n",
       "      <td>Enjoy fast-paced multiplayer gaming with Death...</td>\n",
       "      <td>Enjoy fast-paced multiplayer gaming with Death...</td>\n",
       "      <td>['Valve']</td>\n",
       "      <td>{'windows': True, 'mac': True, 'linux': True}</td>\n",
       "      <td>{'coming_soon': False, 'date': '1 Jun, 2001'}</td>\n",
       "      <td>1273</td>\n",
       "      <td>267</td>\n",
       "      <td>5000000-10000000</td>\n",
       "      <td>258</td>\n",
       "      <td>184</td>\n",
       "      <td>English, French, German, Italian, Spanish - Sp...</td>\n",
       "      <td>Action;FPS;Multiplayer</td>\n",
       "    </tr>\n",
       "    <tr>\n",
       "      <th>4</th>\n",
       "      <td>Half-Life: Opposing Force</td>\n",
       "      <td>50</td>\n",
       "      <td>0.0</td>\n",
       "      <td>False</td>\n",
       "      <td>Return to the Black Mesa Research Facility as ...</td>\n",
       "      <td>Return to the Black Mesa Research Facility as ...</td>\n",
       "      <td>['Gearbox Software']</td>\n",
       "      <td>{'windows': True, 'mac': True, 'linux': True}</td>\n",
       "      <td>{'coming_soon': False, 'date': '1 Nov, 1999'}</td>\n",
       "      <td>5250</td>\n",
       "      <td>288</td>\n",
       "      <td>5000000-10000000</td>\n",
       "      <td>624</td>\n",
       "      <td>415</td>\n",
       "      <td>English, French, German, Korean</td>\n",
       "      <td>FPS;Action;Sci-fi</td>\n",
       "    </tr>\n",
       "  </tbody>\n",
       "</table>\n",
       "</div>"
      ],
      "text/plain": [
       "                        name  steam_appid  required_age  is_free  \\\n",
       "0             Counter-Strike           10           0.0    False   \n",
       "1      Team Fortress Classic           20           0.0    False   \n",
       "2              Day of Defeat           30           0.0    False   \n",
       "3         Deathmatch Classic           40           0.0    False   \n",
       "4  Half-Life: Opposing Force           50           0.0    False   \n",
       "\n",
       "                                      about_the_game  \\\n",
       "0  Play the world's number 1 online action game. ...   \n",
       "1  One of the most popular online action games of...   \n",
       "2  Enlist in an intense brand of Axis vs. Allied ...   \n",
       "3  Enjoy fast-paced multiplayer gaming with Death...   \n",
       "4  Return to the Black Mesa Research Facility as ...   \n",
       "\n",
       "                                   short_description            developers  \\\n",
       "0  Play the world's number 1 online action game. ...             ['Valve']   \n",
       "1  One of the most popular online action games of...             ['Valve']   \n",
       "2  Enlist in an intense brand of Axis vs. Allied ...             ['Valve']   \n",
       "3  Enjoy fast-paced multiplayer gaming with Death...             ['Valve']   \n",
       "4  Return to the Black Mesa Research Facility as ...  ['Gearbox Software']   \n",
       "\n",
       "                                       platforms  \\\n",
       "0  {'windows': True, 'mac': True, 'linux': True}   \n",
       "1  {'windows': True, 'mac': True, 'linux': True}   \n",
       "2  {'windows': True, 'mac': True, 'linux': True}   \n",
       "3  {'windows': True, 'mac': True, 'linux': True}   \n",
       "4  {'windows': True, 'mac': True, 'linux': True}   \n",
       "\n",
       "                                    release_date  positive  negative  \\\n",
       "0  {'coming_soon': False, 'date': '1 Nov, 2000'}    124534      3339   \n",
       "1  {'coming_soon': False, 'date': '1 Apr, 1999'}      3318       633   \n",
       "2  {'coming_soon': False, 'date': '1 May, 2003'}      3416       398   \n",
       "3  {'coming_soon': False, 'date': '1 Jun, 2001'}      1273       267   \n",
       "4  {'coming_soon': False, 'date': '1 Nov, 1999'}      5250       288   \n",
       "\n",
       "              owners  average_forever  median_forever  \\\n",
       "0  10000000-20000000            17612             317   \n",
       "1   5000000-10000000              277              62   \n",
       "2   5000000-10000000              187              34   \n",
       "3   5000000-10000000              258             184   \n",
       "4   5000000-10000000              624             415   \n",
       "\n",
       "                                           languages  \\\n",
       "0  English, French, German, Italian, Spanish - Sp...   \n",
       "1  English, French, German, Italian, Spanish - Sp...   \n",
       "2  English, French, German, Italian, Spanish - Spain   \n",
       "3  English, French, German, Italian, Spanish - Sp...   \n",
       "4                    English, French, German, Korean   \n",
       "\n",
       "                           tags  \n",
       "0        Action;FPS;Multiplayer  \n",
       "1        Action;FPS;Multiplayer  \n",
       "2  FPS;World War II;Multiplayer  \n",
       "3        Action;FPS;Multiplayer  \n",
       "4             FPS;Action;Sci-fi  "
      ]
     },
     "execution_count": 4,
     "metadata": {},
     "output_type": "execute_result"
    }
   ],
   "source": [
    "united_df.head()"
   ]
  },
  {
   "cell_type": "code",
   "execution_count": 5,
   "id": "f0f68874",
   "metadata": {
    "execution": {
     "iopub.execute_input": "2023-04-24T16:00:01.020170Z",
     "iopub.status.busy": "2023-04-24T16:00:01.018922Z",
     "iopub.status.idle": "2023-04-24T16:00:01.027402Z",
     "shell.execute_reply": "2023-04-24T16:00:01.025663Z"
    },
    "papermill": {
     "duration": 0.023562,
     "end_time": "2023-04-24T16:00:01.030569",
     "exception": false,
     "start_time": "2023-04-24T16:00:01.007007",
     "status": "completed"
    },
    "tags": []
   },
   "outputs": [],
   "source": [
    "# Separating tags with a space\n",
    "def globalization(strok:str):\n",
    "    return strok.replace(';', ' ')\n",
    "\n",
    "# Removing duplicate tags\n",
    "def del_rep(strok:str):\n",
    "    spl_strok = strok.split()\n",
    "    return ' '.join(sorted(set(spl_strok), key=spl_strok.index))\n",
    "\n",
    "# Converting to lower case\n",
    "def to_low(strok:str):\n",
    "    return strok.lower()"
   ]
  },
  {
   "cell_type": "code",
   "execution_count": 6,
   "id": "7db732e5",
   "metadata": {
    "execution": {
     "iopub.execute_input": "2023-04-24T16:00:01.054014Z",
     "iopub.status.busy": "2023-04-24T16:00:01.052921Z",
     "iopub.status.idle": "2023-04-24T16:00:01.077008Z",
     "shell.execute_reply": "2023-04-24T16:00:01.075569Z"
    },
    "papermill": {
     "duration": 0.039585,
     "end_time": "2023-04-24T16:00:01.080407",
     "exception": false,
     "start_time": "2023-04-24T16:00:01.040822",
     "status": "completed"
    },
    "tags": []
   },
   "outputs": [],
   "source": [
    "united_df.developers = united_df.developers.str[2:-2]"
   ]
  },
  {
   "cell_type": "code",
   "execution_count": 7,
   "id": "2c0aa735",
   "metadata": {
    "execution": {
     "iopub.execute_input": "2023-04-24T16:00:01.103212Z",
     "iopub.status.busy": "2023-04-24T16:00:01.102734Z",
     "iopub.status.idle": "2023-04-24T16:00:01.231760Z",
     "shell.execute_reply": "2023-04-24T16:00:01.230251Z"
    },
    "papermill": {
     "duration": 0.145589,
     "end_time": "2023-04-24T16:00:01.236088",
     "exception": false,
     "start_time": "2023-04-24T16:00:01.090499",
     "status": "completed"
    },
    "tags": []
   },
   "outputs": [],
   "source": [
    "# Separating tags with a space\n",
    "united_df['tags'] = united_df['tags'].apply(globalization)\n",
    "united_df['tags'] = united_df['tags'].apply(del_rep)\n",
    "\n",
    "# Convert strings to lowercase and concatenate into one column\n",
    "cols = ['developers', 'tags']\n",
    "\n",
    "united_df['alls'] = united_df['name'].copy().apply(to_low)\n",
    "\n",
    "for i in cols:\n",
    "  united_df['alls'] += ' ' + united_df[i].apply(to_low)"
   ]
  },
  {
   "cell_type": "code",
   "execution_count": 8,
   "id": "21884ff5",
   "metadata": {
    "execution": {
     "iopub.execute_input": "2023-04-24T16:00:01.260642Z",
     "iopub.status.busy": "2023-04-24T16:00:01.259872Z",
     "iopub.status.idle": "2023-04-24T16:00:01.270160Z",
     "shell.execute_reply": "2023-04-24T16:00:01.268830Z"
    },
    "papermill": {
     "duration": 0.02569,
     "end_time": "2023-04-24T16:00:01.272741",
     "exception": false,
     "start_time": "2023-04-24T16:00:01.247051",
     "status": "completed"
    },
    "tags": []
   },
   "outputs": [
    {
     "data": {
      "text/plain": [
       "0              counter-strike valve action fps multiplayer\n",
       "1        team fortress classic valve action fps multipl...\n",
       "2         day of defeat valve fps world war ii multiplayer\n",
       "3          deathmatch classic valve action fps multiplayer\n",
       "4        half-life: opposing force gearbox software fps...\n",
       "                               ...                        \n",
       "27793    room of pandora shen jiawei adventure indie ca...\n",
       "27794      cyber gun semyon maximov action indie adventure\n",
       "27795     super star blast entwicklerx action indie casual\n",
       "27796    new yankee 7: deer hunters yustas game studio ...\n",
       "27797    rune lord adept studios gd indie casual adventure\n",
       "Name: alls, Length: 27798, dtype: object"
      ]
     },
     "execution_count": 8,
     "metadata": {},
     "output_type": "execute_result"
    }
   ],
   "source": [
    "# How it looks\n",
    "united_df['alls']"
   ]
  },
  {
   "cell_type": "code",
   "execution_count": 9,
   "id": "9b148428",
   "metadata": {
    "execution": {
     "iopub.execute_input": "2023-04-24T16:00:01.297404Z",
     "iopub.status.busy": "2023-04-24T16:00:01.296946Z",
     "iopub.status.idle": "2023-04-24T16:00:01.308482Z",
     "shell.execute_reply": "2023-04-24T16:00:01.307031Z"
    },
    "papermill": {
     "duration": 0.02711,
     "end_time": "2023-04-24T16:00:01.311420",
     "exception": false,
     "start_time": "2023-04-24T16:00:01.284310",
     "status": "completed"
    },
    "tags": []
   },
   "outputs": [
    {
     "data": {
      "text/plain": [
       "[2007]"
      ]
     },
     "execution_count": 9,
     "metadata": {},
     "output_type": "execute_result"
    }
   ],
   "source": [
    "united_df.index[united_df['name'] == 'Tropico 5'].tolist()"
   ]
  },
  {
   "cell_type": "code",
   "execution_count": 10,
   "id": "09cf2942",
   "metadata": {
    "execution": {
     "iopub.execute_input": "2023-04-24T16:00:01.334782Z",
     "iopub.status.busy": "2023-04-24T16:00:01.334313Z",
     "iopub.status.idle": "2023-04-24T16:00:01.343471Z",
     "shell.execute_reply": "2023-04-24T16:00:01.341938Z"
    },
    "papermill": {
     "duration": 0.024059,
     "end_time": "2023-04-24T16:00:01.346337",
     "exception": false,
     "start_time": "2023-04-24T16:00:01.322278",
     "status": "completed"
    },
    "tags": []
   },
   "outputs": [
    {
     "data": {
      "text/plain": [
       "'counter-strike valve action fps multiplayer'"
      ]
     },
     "execution_count": 10,
     "metadata": {},
     "output_type": "execute_result"
    }
   ],
   "source": [
    "# How it looks\n",
    "united_df['alls'][0]"
   ]
  },
  {
   "cell_type": "code",
   "execution_count": 11,
   "id": "f5a56f18",
   "metadata": {
    "execution": {
     "iopub.execute_input": "2023-04-24T16:00:01.370463Z",
     "iopub.status.busy": "2023-04-24T16:00:01.370017Z",
     "iopub.status.idle": "2023-04-24T16:00:01.377687Z",
     "shell.execute_reply": "2023-04-24T16:00:01.376306Z"
    },
    "papermill": {
     "duration": 0.022934,
     "end_time": "2023-04-24T16:00:01.380275",
     "exception": false,
     "start_time": "2023-04-24T16:00:01.357341",
     "status": "completed"
    },
    "tags": []
   },
   "outputs": [
    {
     "data": {
      "text/plain": [
       "'tropico 5 haemimont games strategy simulation city builder'"
      ]
     },
     "execution_count": 11,
     "metadata": {},
     "output_type": "execute_result"
    }
   ],
   "source": [
    "# How it looks\n",
    "united_df['alls'][2007]"
   ]
  },
  {
   "cell_type": "code",
   "execution_count": 12,
   "id": "2ac8f995",
   "metadata": {
    "execution": {
     "iopub.execute_input": "2023-04-24T16:00:01.403331Z",
     "iopub.status.busy": "2023-04-24T16:00:01.402867Z",
     "iopub.status.idle": "2023-04-24T16:00:24.231484Z",
     "shell.execute_reply": "2023-04-24T16:00:24.230111Z"
    },
    "papermill": {
     "duration": 22.843901,
     "end_time": "2023-04-24T16:00:24.234749",
     "exception": false,
     "start_time": "2023-04-24T16:00:01.390848",
     "status": "completed"
    },
    "tags": []
   },
   "outputs": [
    {
     "name": "stdout",
     "output_type": "stream",
     "text": [
      "Time:  22.821365078999975\n"
     ]
    }
   ],
   "source": [
    "start = timeit.default_timer()\n",
    "\n",
    "# Convert a collection of text documents to a matrix of token counts\n",
    "count_vec = CountVectorizer(stop_words='english')\n",
    "count_matrix = count_vec.fit_transform(united_df['alls'])\n",
    "\n",
    "# Compute cosine similarity\n",
    "cosine_sim = cosine_similarity(count_matrix, count_matrix)\n",
    "stop = timeit.default_timer()\n",
    "\n",
    "print('Time: ', stop - start) "
   ]
  },
  {
   "cell_type": "code",
   "execution_count": 13,
   "id": "fcfbc0b5",
   "metadata": {
    "execution": {
     "iopub.execute_input": "2023-04-24T16:00:24.259548Z",
     "iopub.status.busy": "2023-04-24T16:00:24.259090Z",
     "iopub.status.idle": "2023-04-24T16:00:25.066399Z",
     "shell.execute_reply": "2023-04-24T16:00:25.065369Z"
    },
    "papermill": {
     "duration": 0.82285,
     "end_time": "2023-04-24T16:00:25.069186",
     "exception": false,
     "start_time": "2023-04-24T16:00:24.246336",
     "status": "completed"
    },
    "tags": []
   },
   "outputs": [
    {
     "name": "stdout",
     "output_type": "stream",
     "text": [
      "[nltk_data] Downloading package stopwords to /usr/share/nltk_data...\n",
      "[nltk_data]   Package stopwords is already up-to-date!\n",
      "[nltk_data] Downloading package wordnet to /usr/share/nltk_data...\n",
      "[nltk_data]   Package wordnet is already up-to-date!\n",
      "[nltk_data] Downloading package punkt to /usr/share/nltk_data...\n",
      "[nltk_data]   Package punkt is already up-to-date!\n"
     ]
    },
    {
     "data": {
      "text/plain": [
       "True"
      ]
     },
     "execution_count": 13,
     "metadata": {},
     "output_type": "execute_result"
    }
   ],
   "source": [
    "import string # used for preprocessing\n",
    "import re # used for preprocessing\n",
    "import nltk # the Natural Language Toolkit, used for preprocessing\n",
    "from nltk.tokenize import word_tokenize\n",
    "from nltk.corpus import stopwords # used for preprocessing\n",
    "from nltk.stem import WordNetLemmatizer\n",
    "nltk.download('stopwords')\n",
    "nltk.download('wordnet')\n",
    "nltk.download('punkt')"
   ]
  },
  {
   "cell_type": "code",
   "execution_count": 14,
   "id": "504fd5e8",
   "metadata": {
    "execution": {
     "iopub.execute_input": "2023-04-24T16:00:25.095303Z",
     "iopub.status.busy": "2023-04-24T16:00:25.094851Z",
     "iopub.status.idle": "2023-04-24T16:00:26.640074Z",
     "shell.execute_reply": "2023-04-24T16:00:26.638505Z"
    },
    "papermill": {
     "duration": 1.561861,
     "end_time": "2023-04-24T16:00:26.643055",
     "exception": false,
     "start_time": "2023-04-24T16:00:25.081194",
     "status": "completed"
    },
    "tags": []
   },
   "outputs": [
    {
     "name": "stdout",
     "output_type": "stream",
     "text": [
      "Archive:  /usr/share/nltk_data/corpora/wordnet.zip\r\n",
      "   creating: /usr/share/nltk_data/corpora/wordnet/\r\n",
      "  inflating: /usr/share/nltk_data/corpora/wordnet/lexnames  \r\n",
      "  inflating: /usr/share/nltk_data/corpora/wordnet/data.verb  \r\n",
      "  inflating: /usr/share/nltk_data/corpora/wordnet/index.adv  \r\n",
      "  inflating: /usr/share/nltk_data/corpora/wordnet/adv.exc  \r\n",
      "  inflating: /usr/share/nltk_data/corpora/wordnet/index.verb  \r\n",
      "  inflating: /usr/share/nltk_data/corpora/wordnet/cntlist.rev  \r\n",
      "  inflating: /usr/share/nltk_data/corpora/wordnet/data.adj  \r\n",
      "  inflating: /usr/share/nltk_data/corpora/wordnet/index.adj  \r\n",
      "  inflating: /usr/share/nltk_data/corpora/wordnet/LICENSE  \r\n",
      "  inflating: /usr/share/nltk_data/corpora/wordnet/citation.bib  \r\n",
      "  inflating: /usr/share/nltk_data/corpora/wordnet/noun.exc  \r\n",
      "  inflating: /usr/share/nltk_data/corpora/wordnet/verb.exc  \r\n",
      "  inflating: /usr/share/nltk_data/corpora/wordnet/README  \r\n",
      "  inflating: /usr/share/nltk_data/corpora/wordnet/index.sense  \r\n",
      "  inflating: /usr/share/nltk_data/corpora/wordnet/data.noun  \r\n",
      "  inflating: /usr/share/nltk_data/corpora/wordnet/data.adv  \r\n",
      "  inflating: /usr/share/nltk_data/corpora/wordnet/index.noun  \r\n",
      "  inflating: /usr/share/nltk_data/corpora/wordnet/adj.exc  \r\n"
     ]
    }
   ],
   "source": [
    "!unzip /usr/share/nltk_data/corpora/wordnet.zip -d /usr/share/nltk_data/corpora/"
   ]
  },
  {
   "cell_type": "code",
   "execution_count": 15,
   "id": "b5777e8c",
   "metadata": {
    "execution": {
     "iopub.execute_input": "2023-04-24T16:00:26.668209Z",
     "iopub.status.busy": "2023-04-24T16:00:26.667341Z",
     "iopub.status.idle": "2023-04-24T16:00:26.683811Z",
     "shell.execute_reply": "2023-04-24T16:00:26.682326Z"
    },
    "papermill": {
     "duration": 0.032645,
     "end_time": "2023-04-24T16:00:26.687003",
     "exception": false,
     "start_time": "2023-04-24T16:00:26.654358",
     "status": "completed"
    },
    "tags": []
   },
   "outputs": [],
   "source": [
    "# remove urls, handles, and the hashtag from hashtags (taken from https://stackoverflow.com/questions/8376691/how-to-remove-hashtag-user-link-of-a-tweet-using-regular-expression)\n",
    "def remove_urls(text):\n",
    "    new_text = ' '.join(re.sub(\"(@[A-Za-z0-9]+)|([^0-9A-Za-z \\t])|(\\w+:\\/\\/\\S+)\",\" \",text).split())\n",
    "    return new_text\n",
    "# make all text lowercase\n",
    "def text_lowercase(text):\n",
    "    return text.lower()\n",
    "# remove numbers\n",
    "def remove_numbers(text):\n",
    "    result = re.sub(r'\\d+', '', text)\n",
    "    return result\n",
    "# remove punctuation\n",
    "def remove_punctuation(text):\n",
    "    translator = str.maketrans('', '', string.punctuation)\n",
    "    return text.translate(translator)\n",
    "# tokenize\n",
    "def tokenize(text):\n",
    "    text = word_tokenize(text)\n",
    "    return text\n",
    "# remove stopwords\n",
    "stop_words = set(stopwords.words('english'))\n",
    "def remove_stopwords(text):\n",
    "    text = [i for i in text if not i in stop_words]\n",
    "    return text\n",
    "# lemmatize\n",
    "lemmatizer = WordNetLemmatizer()\n",
    "def lemmatize(text):\n",
    "    text = [lemmatizer.lemmatize(token) for token in text]\n",
    "    return text\n",
    "\n",
    "def preprocessing(text):\n",
    "    text = text_lowercase(text)\n",
    "    text = remove_urls(text)\n",
    "    text = remove_numbers(text)\n",
    "    text = remove_punctuation(text)\n",
    "    text = tokenize(text)\n",
    "    text = remove_stopwords(text)\n",
    "    text = lemmatize(text)\n",
    "    text = ' '.join(text)\n",
    "    return text"
   ]
  },
  {
   "cell_type": "code",
   "execution_count": 16,
   "id": "14ad1db5",
   "metadata": {
    "execution": {
     "iopub.execute_input": "2023-04-24T16:00:26.711488Z",
     "iopub.status.busy": "2023-04-24T16:00:26.711042Z",
     "iopub.status.idle": "2023-04-24T16:00:39.383287Z",
     "shell.execute_reply": "2023-04-24T16:00:39.381174Z"
    },
    "papermill": {
     "duration": 12.688573,
     "end_time": "2023-04-24T16:00:39.386850",
     "exception": false,
     "start_time": "2023-04-24T16:00:26.698277",
     "status": "completed"
    },
    "tags": []
   },
   "outputs": [],
   "source": [
    "united_df['short_description']=united_df['short_description'].apply(preprocessing)"
   ]
  },
  {
   "cell_type": "code",
   "execution_count": 17,
   "id": "cdb4bb36",
   "metadata": {
    "execution": {
     "iopub.execute_input": "2023-04-24T16:00:39.415675Z",
     "iopub.status.busy": "2023-04-24T16:00:39.415160Z",
     "iopub.status.idle": "2023-04-24T16:00:39.425684Z",
     "shell.execute_reply": "2023-04-24T16:00:39.424335Z"
    },
    "papermill": {
     "duration": 0.028785,
     "end_time": "2023-04-24T16:00:39.428886",
     "exception": false,
     "start_time": "2023-04-24T16:00:39.400101",
     "status": "completed"
    },
    "tags": []
   },
   "outputs": [
    {
     "data": {
      "text/plain": [
       "0    play world number online action game engage in...\n",
       "1    one popular online action game time team fortr...\n",
       "2    enlist intense brand axis v allied teamplay se...\n",
       "3    enjoy fast paced multiplayer gaming deathmatch...\n",
       "4    return black mesa research facility one milita...\n",
       "Name: short_description, dtype: object"
      ]
     },
     "execution_count": 17,
     "metadata": {},
     "output_type": "execute_result"
    }
   ],
   "source": [
    "united_df['short_description'].head()"
   ]
  },
  {
   "cell_type": "code",
   "execution_count": 18,
   "id": "2e36a492",
   "metadata": {
    "execution": {
     "iopub.execute_input": "2023-04-24T16:00:39.454531Z",
     "iopub.status.busy": "2023-04-24T16:00:39.454099Z",
     "iopub.status.idle": "2023-04-24T16:00:39.463059Z",
     "shell.execute_reply": "2023-04-24T16:00:39.461598Z"
    },
    "papermill": {
     "duration": 0.026013,
     "end_time": "2023-04-24T16:00:39.466708",
     "exception": false,
     "start_time": "2023-04-24T16:00:39.440695",
     "status": "completed"
    },
    "tags": []
   },
   "outputs": [
    {
     "data": {
      "text/plain": [
       "'play world number online action game engage incredibly realistic brand terrorist warfare wildly popular team based game ally teammate complete strategic mission take enemy site rescue hostage role affect team success team success affect role'"
      ]
     },
     "execution_count": 18,
     "metadata": {},
     "output_type": "execute_result"
    }
   ],
   "source": [
    "united_df['short_description'][0]"
   ]
  },
  {
   "cell_type": "code",
   "execution_count": 19,
   "id": "be611afb",
   "metadata": {
    "execution": {
     "iopub.execute_input": "2023-04-24T16:00:39.496229Z",
     "iopub.status.busy": "2023-04-24T16:00:39.495629Z",
     "iopub.status.idle": "2023-04-24T16:00:39.504991Z",
     "shell.execute_reply": "2023-04-24T16:00:39.503519Z"
    },
    "papermill": {
     "duration": 0.026948,
     "end_time": "2023-04-24T16:00:39.507770",
     "exception": false,
     "start_time": "2023-04-24T16:00:39.480822",
     "status": "completed"
    },
    "tags": []
   },
   "outputs": [
    {
     "data": {
      "text/plain": [
       "'return remote island nation tropico expand dynasty reign early colonial period beyond st century facing new challenge including advanced trading mechanic technology scientific research well cooperative competitive multiplayer'"
      ]
     },
     "execution_count": 19,
     "metadata": {},
     "output_type": "execute_result"
    }
   ],
   "source": [
    "united_df['short_description'][2007]"
   ]
  },
  {
   "cell_type": "code",
   "execution_count": 20,
   "id": "18dc2c96",
   "metadata": {
    "execution": {
     "iopub.execute_input": "2023-04-24T16:00:39.535104Z",
     "iopub.status.busy": "2023-04-24T16:00:39.534654Z",
     "iopub.status.idle": "2023-04-24T16:00:57.240414Z",
     "shell.execute_reply": "2023-04-24T16:00:57.238784Z"
    },
    "papermill": {
     "duration": 17.722402,
     "end_time": "2023-04-24T16:00:57.243434",
     "exception": false,
     "start_time": "2023-04-24T16:00:39.521032",
     "status": "completed"
    },
    "tags": []
   },
   "outputs": [
    {
     "name": "stdout",
     "output_type": "stream",
     "text": [
      "Time:  17.69748602300001\n"
     ]
    }
   ],
   "source": [
    "start = timeit.default_timer()\n",
    "# Convert a collection of raw documents to a matrix of TF-IDF features\n",
    "tfidf = TfidfVectorizer(stop_words='english')\n",
    "tfidf_matrix = tfidf.fit_transform(united_df['short_description'])\n",
    "\n",
    "# Stack sparse matrices horizontally\n",
    "# st = hstack([count_matrix, tfidf_matrix])\n",
    "\n",
    "# # Compute cosine similarity\n",
    "# cosine_sim2 = cosine_similarity(st, st)\n",
    "cosine_sim_again = cosine_similarity(tfidf_matrix, tfidf_matrix)\n",
    "stop = timeit.default_timer()\n",
    "\n",
    "print('Time: ', stop - start) "
   ]
  },
  {
   "cell_type": "code",
   "execution_count": 21,
   "id": "08bcf3bb",
   "metadata": {
    "execution": {
     "iopub.execute_input": "2023-04-24T16:00:57.269722Z",
     "iopub.status.busy": "2023-04-24T16:00:57.268863Z",
     "iopub.status.idle": "2023-04-24T16:01:25.630601Z",
     "shell.execute_reply": "2023-04-24T16:01:25.629028Z"
    },
    "papermill": {
     "duration": 28.378027,
     "end_time": "2023-04-24T16:01:25.633463",
     "exception": false,
     "start_time": "2023-04-24T16:00:57.255436",
     "status": "completed"
    },
    "tags": []
   },
   "outputs": [
    {
     "name": "stdout",
     "output_type": "stream",
     "text": [
      "Time:  28.352849584999944\n"
     ]
    }
   ],
   "source": [
    "start = timeit.default_timer()\n",
    "# Convert a collection of raw documents to a matrix of TF-IDF features\n",
    "tfidf = TfidfVectorizer(stop_words='english')\n",
    "tfidf_matrix = tfidf.fit_transform(united_df['short_description'])\n",
    "\n",
    "# Stack sparse matrices horizontally\n",
    "st = hstack([count_matrix, tfidf_matrix])\n",
    "\n",
    "# Compute cosine similarity\n",
    "cosine_sim2 = cosine_similarity(st, st)\n",
    "# cosine_sim_again = cosine_similarity(tfidf_matrix, tfidf_matrix)\n",
    "stop = timeit.default_timer()\n",
    "\n",
    "print('Time: ', stop - start) "
   ]
  },
  {
   "cell_type": "code",
   "execution_count": 22,
   "id": "ae3dc4cc",
   "metadata": {
    "execution": {
     "iopub.execute_input": "2023-04-24T16:01:25.659503Z",
     "iopub.status.busy": "2023-04-24T16:01:25.659044Z",
     "iopub.status.idle": "2023-04-24T16:01:25.667547Z",
     "shell.execute_reply": "2023-04-24T16:01:25.666201Z"
    },
    "papermill": {
     "duration": 0.024237,
     "end_time": "2023-04-24T16:01:25.670025",
     "exception": false,
     "start_time": "2023-04-24T16:01:25.645788",
     "status": "completed"
    },
    "tags": []
   },
   "outputs": [],
   "source": [
    "# The main function that makes recommendations\n",
    "def get_rec(nam:str, cosine):\n",
    "#     Determine the index\n",
    "    ind = united_df[united_df['name'] == nam].index.to_list()[0]\n",
    "    \n",
    "#     Obtaining cosine convergence by index\n",
    "    cos_scor = list(enumerate(cosine[ind]))\n",
    "    \n",
    "#     Getting the most suitable games\n",
    "    cos_scor = sorted(cos_scor, key=lambda x: x[1], reverse=True)\n",
    "    cos_scor = cos_scor[1:11]\n",
    "    ten_ind = [i[0] for i in cos_scor]\n",
    "    return united_df['name'].iloc[ten_ind]"
   ]
  },
  {
   "cell_type": "code",
   "execution_count": 23,
   "id": "dead8402",
   "metadata": {
    "execution": {
     "iopub.execute_input": "2023-04-24T16:01:25.695898Z",
     "iopub.status.busy": "2023-04-24T16:01:25.695127Z",
     "iopub.status.idle": "2023-04-24T16:01:25.781988Z",
     "shell.execute_reply": "2023-04-24T16:01:25.780619Z"
    },
    "papermill": {
     "duration": 0.103092,
     "end_time": "2023-04-24T16:01:25.784834",
     "exception": false,
     "start_time": "2023-04-24T16:01:25.681742",
     "status": "completed"
    },
    "tags": []
   },
   "outputs": [
    {
     "name": "stdout",
     "output_type": "stream",
     "text": [
      "Recommendation for S.T.A.L.K.E.R.: Shadow of Chernobyl \n",
      "\n",
      "Recommendations using game name, developer, genre tags \n",
      "\n",
      "846          S.T.A.L.K.E.R.: Call of Pripyat\n",
      "471                S.T.A.L.K.E.R.: Clear Sky\n",
      "509                                Fallout 3\n",
      "6209                               Fallout 4\n",
      "514      Fallout 3: Game of the Year Edition\n",
      "17577      BLOCK WARRIORS: \"Open World\" Game\n",
      "2961      Hard Truck Apocalypse / Ex Machina\n",
      "7196                    World Ship Simulator\n",
      "14447                           Fallout 4 VR\n",
      "515                       Fallout: New Vegas\n",
      "Name: name, dtype: object \n",
      "\n",
      "Recommendations using game name, developer, genre tags and description \n",
      "\n",
      "None\n",
      "846          S.T.A.L.K.E.R.: Call of Pripyat\n",
      "471                S.T.A.L.K.E.R.: Clear Sky\n",
      "509                                Fallout 3\n",
      "6209                               Fallout 4\n",
      "514      Fallout 3: Game of the Year Edition\n",
      "17577      BLOCK WARRIORS: \"Open World\" Game\n",
      "7196                    World Ship Simulator\n",
      "14447                           Fallout 4 VR\n",
      "2961      Hard Truck Apocalypse / Ex Machina\n",
      "515                       Fallout: New Vegas\n",
      "Name: name, dtype: object\n"
     ]
    }
   ],
   "source": [
    "# Example 1\n",
    "naz = \"S.T.A.L.K.E.R.: Shadow of Chernobyl\"\n",
    "print('Recommendation for', naz, '\\n')\n",
    "print('Recommendations using game name, developer, genre tags \\n')\n",
    "print(get_rec(naz, cosine_sim),'\\n')\n",
    "print(print('Recommendations using game name, developer, genre tags and description \\n'))\n",
    "print(get_rec(naz, cosine_sim2))"
   ]
  },
  {
   "cell_type": "code",
   "execution_count": 24,
   "id": "28a7b561",
   "metadata": {
    "execution": {
     "iopub.execute_input": "2023-04-24T16:01:25.811019Z",
     "iopub.status.busy": "2023-04-24T16:01:25.809814Z",
     "iopub.status.idle": "2023-04-24T16:01:25.866371Z",
     "shell.execute_reply": "2023-04-24T16:01:25.864740Z"
    },
    "papermill": {
     "duration": 0.072559,
     "end_time": "2023-04-24T16:01:25.869094",
     "exception": false,
     "start_time": "2023-04-24T16:01:25.796535",
     "status": "completed"
    },
    "tags": []
   },
   "outputs": [
    {
     "name": "stdout",
     "output_type": "stream",
     "text": [
      "Recommendation for Call of Duty® 4: Modern Warfare® \n",
      "\n",
      "Recommendations using game name, developer, genre tags \n",
      "\n",
      "279              Call of Duty®: Modern Warfare® 2\n",
      "3176              Call of Duty®: Infinite Warfare\n",
      "72                                Call of Duty® 2\n",
      "6802    Call of Duty®: Modern Warfare® Remastered\n",
      "1432                        Call of Duty®: Ghosts\n",
      "71                                  Call of Duty®\n",
      "1518        Call of Duty: Black Ops - Mac Edition\n",
      "3702                 Call of Duty®: Black Ops III\n",
      "1304                  Call of Duty®: Black Ops II\n",
      "5                                        Ricochet\n",
      "Name: name, dtype: object \n",
      "\n",
      "Recommendations using game name, developer, genre tags and description \n",
      "\n",
      "None\n",
      "279              Call of Duty®: Modern Warfare® 2\n",
      "3176              Call of Duty®: Infinite Warfare\n",
      "72                                Call of Duty® 2\n",
      "6802    Call of Duty®: Modern Warfare® Remastered\n",
      "1432                        Call of Duty®: Ghosts\n",
      "71                                  Call of Duty®\n",
      "1518        Call of Duty: Black Ops - Mac Edition\n",
      "3702                 Call of Duty®: Black Ops III\n",
      "1304                  Call of Duty®: Black Ops II\n",
      "5                                        Ricochet\n",
      "Name: name, dtype: object\n"
     ]
    }
   ],
   "source": [
    "# Example 2\n",
    "naz = \"Call of Duty® 4: Modern Warfare®\"\n",
    "print('Recommendation for', naz, '\\n')\n",
    "print('Recommendations using game name, developer, genre tags \\n')\n",
    "print(get_rec(naz, cosine_sim),'\\n')\n",
    "print(print('Recommendations using game name, developer, genre tags and description \\n'))\n",
    "print(get_rec(naz, cosine_sim2))"
   ]
  },
  {
   "cell_type": "code",
   "execution_count": 25,
   "id": "bb410158",
   "metadata": {
    "execution": {
     "iopub.execute_input": "2023-04-24T16:01:25.895444Z",
     "iopub.status.busy": "2023-04-24T16:01:25.894952Z",
     "iopub.status.idle": "2023-04-24T16:01:25.952151Z",
     "shell.execute_reply": "2023-04-24T16:01:25.950745Z"
    },
    "papermill": {
     "duration": 0.074167,
     "end_time": "2023-04-24T16:01:25.955134",
     "exception": false,
     "start_time": "2023-04-24T16:01:25.880967",
     "status": "completed"
    },
    "tags": []
   },
   "outputs": [
    {
     "name": "stdout",
     "output_type": "stream",
     "text": [
      "Recommendation for Tropico 5 \n",
      "\n",
      "Recommendations using game name, developer, genre tags \n",
      "\n",
      "1010                         Tropico 4\n",
      "2007                         Tropico 5\n",
      "528                   Grand Ages: Rome\n",
      "526      Imperium Romanum Gold Edition\n",
      "11086                        Caesar™ 3\n",
      "13365                      Constructor\n",
      "1416        Omerta - City of Gangsters\n",
      "5224                      Urban Empire\n",
      "9352                    Surviving Mars\n",
      "12795              Pharaoh + Cleopatra\n",
      "Name: name, dtype: object \n",
      "\n",
      "Recommendation for Tropico 5 \n",
      "\n",
      "Recommendations using game name, developer, genre tags and description \n",
      "\n",
      "None\n",
      "1010                         Tropico 4\n",
      "530                          Tropico 3\n",
      "528                   Grand Ages: Rome\n",
      "526      Imperium Romanum Gold Edition\n",
      "11086                        Caesar™ 3\n",
      "677                   Tropico Reloaded\n",
      "9352                    Surviving Mars\n",
      "5224                      Urban Empire\n",
      "12795              Pharaoh + Cleopatra\n",
      "1416        Omerta - City of Gangsters\n",
      "Name: name, dtype: object\n"
     ]
    }
   ],
   "source": [
    "# Example 3\n",
    "naz = \"Tropico 5\"\n",
    "print('Recommendation for', naz, '\\n')\n",
    "print('Recommendations using game name, developer, genre tags \\n')\n",
    "print(get_rec(naz, cosine_sim),'\\n')\n",
    "print('Recommendation for', naz, '\\n')\n",
    "print(print('Recommendations using game name, developer, genre tags and description \\n'))\n",
    "print(get_rec(naz, cosine_sim2))"
   ]
  },
  {
   "cell_type": "code",
   "execution_count": 26,
   "id": "1fbfe6bc",
   "metadata": {
    "execution": {
     "iopub.execute_input": "2023-04-24T16:01:25.982147Z",
     "iopub.status.busy": "2023-04-24T16:01:25.980856Z",
     "iopub.status.idle": "2023-04-24T16:01:26.011300Z",
     "shell.execute_reply": "2023-04-24T16:01:26.009865Z"
    },
    "papermill": {
     "duration": 0.04688,
     "end_time": "2023-04-24T16:01:26.014356",
     "exception": false,
     "start_time": "2023-04-24T16:01:25.967476",
     "status": "completed"
    },
    "tags": []
   },
   "outputs": [
    {
     "name": "stdout",
     "output_type": "stream",
     "text": [
      "Recommendation for Tropico 5 \n",
      "\n",
      "Recommendations using game description \n",
      "\n",
      "None\n",
      "868               Victoria II\n",
      "1110         Pride of Nations\n",
      "677          Tropico Reloaded\n",
      "20053               Citystate\n",
      "8310            Stellar Stars\n",
      "19531                 Souland\n",
      "1010                Tropico 4\n",
      "18066     Reigns: Her Majesty\n",
      "869       Victoria I Complete\n",
      "11475    Operation: New Earth\n",
      "Name: name, dtype: object\n"
     ]
    }
   ],
   "source": [
    "naz = \"Tropico 5\"\n",
    "print('Recommendation for', naz, '\\n')\n",
    "print(print('Recommendations using game description \\n'))\n",
    "print(get_rec(naz, cosine_sim_again))"
   ]
  },
  {
   "cell_type": "code",
   "execution_count": 27,
   "id": "90bebbdb",
   "metadata": {
    "execution": {
     "iopub.execute_input": "2023-04-24T16:01:26.040856Z",
     "iopub.status.busy": "2023-04-24T16:01:26.040444Z",
     "iopub.status.idle": "2023-04-24T16:01:26.060686Z",
     "shell.execute_reply": "2023-04-24T16:01:26.059569Z"
    },
    "papermill": {
     "duration": 0.036777,
     "end_time": "2023-04-24T16:01:26.063418",
     "exception": false,
     "start_time": "2023-04-24T16:01:26.026641",
     "status": "completed"
    },
    "tags": []
   },
   "outputs": [],
   "source": [
    "united_df['alls'] = united_df['alls'] + \" \" + united_df['short_description']"
   ]
  },
  {
   "cell_type": "code",
   "execution_count": 28,
   "id": "69e6cc12",
   "metadata": {
    "execution": {
     "iopub.execute_input": "2023-04-24T16:01:26.090205Z",
     "iopub.status.busy": "2023-04-24T16:01:26.089464Z",
     "iopub.status.idle": "2023-04-24T16:01:26.096204Z",
     "shell.execute_reply": "2023-04-24T16:01:26.095241Z"
    },
    "papermill": {
     "duration": 0.022683,
     "end_time": "2023-04-24T16:01:26.098392",
     "exception": false,
     "start_time": "2023-04-24T16:01:26.075709",
     "status": "completed"
    },
    "tags": []
   },
   "outputs": [
    {
     "data": {
      "text/plain": [
       "'counter-strike valve action fps multiplayer play world number online action game engage incredibly realistic brand terrorist warfare wildly popular team based game ally teammate complete strategic mission take enemy site rescue hostage role affect team success team success affect role'"
      ]
     },
     "execution_count": 28,
     "metadata": {},
     "output_type": "execute_result"
    }
   ],
   "source": [
    "united_df['alls'][0]"
   ]
  },
  {
   "cell_type": "code",
   "execution_count": 29,
   "id": "bff8376d",
   "metadata": {
    "execution": {
     "iopub.execute_input": "2023-04-24T16:01:26.125179Z",
     "iopub.status.busy": "2023-04-24T16:01:26.124432Z",
     "iopub.status.idle": "2023-04-24T16:01:26.130862Z",
     "shell.execute_reply": "2023-04-24T16:01:26.129921Z"
    },
    "papermill": {
     "duration": 0.022552,
     "end_time": "2023-04-24T16:01:26.133191",
     "exception": false,
     "start_time": "2023-04-24T16:01:26.110639",
     "status": "completed"
    },
    "tags": []
   },
   "outputs": [
    {
     "data": {
      "text/plain": [
       "'tropico 5 haemimont games strategy simulation city builder return remote island nation tropico expand dynasty reign early colonial period beyond st century facing new challenge including advanced trading mechanic technology scientific research well cooperative competitive multiplayer'"
      ]
     },
     "execution_count": 29,
     "metadata": {},
     "output_type": "execute_result"
    }
   ],
   "source": [
    "united_df['alls'][2007]"
   ]
  },
  {
   "cell_type": "code",
   "execution_count": 30,
   "id": "78ca5337",
   "metadata": {
    "execution": {
     "iopub.execute_input": "2023-04-24T16:01:26.160981Z",
     "iopub.status.busy": "2023-04-24T16:01:26.160208Z",
     "iopub.status.idle": "2023-04-24T16:01:26.166956Z",
     "shell.execute_reply": "2023-04-24T16:01:26.165944Z"
    },
    "papermill": {
     "duration": 0.023785,
     "end_time": "2023-04-24T16:01:26.169410",
     "exception": false,
     "start_time": "2023-04-24T16:01:26.145625",
     "status": "completed"
    },
    "tags": []
   },
   "outputs": [
    {
     "data": {
      "text/plain": [
       "'play world number online action game engage incredibly realistic brand terrorist warfare wildly popular team based game ally teammate complete strategic mission take enemy site rescue hostage role affect team success team success affect role'"
      ]
     },
     "execution_count": 30,
     "metadata": {},
     "output_type": "execute_result"
    }
   ],
   "source": [
    "united_df['short_description'][0]"
   ]
  },
  {
   "cell_type": "code",
   "execution_count": 31,
   "id": "b28a714b",
   "metadata": {
    "execution": {
     "iopub.execute_input": "2023-04-24T16:01:26.197304Z",
     "iopub.status.busy": "2023-04-24T16:01:26.196574Z",
     "iopub.status.idle": "2023-04-24T16:01:26.317653Z",
     "shell.execute_reply": "2023-04-24T16:01:26.316260Z"
    },
    "papermill": {
     "duration": 0.138228,
     "end_time": "2023-04-24T16:01:26.320643",
     "exception": false,
     "start_time": "2023-04-24T16:01:26.182415",
     "status": "completed"
    },
    "tags": []
   },
   "outputs": [],
   "source": [
    "corpus = []\n",
    "for words in united_df['alls']:\n",
    "    corpus.append(words.split())"
   ]
  },
  {
   "cell_type": "code",
   "execution_count": 32,
   "id": "f8e228c3",
   "metadata": {
    "execution": {
     "iopub.execute_input": "2023-04-24T16:01:26.348263Z",
     "iopub.status.busy": "2023-04-24T16:01:26.347792Z",
     "iopub.status.idle": "2023-04-24T16:01:26.583015Z",
     "shell.execute_reply": "2023-04-24T16:01:26.581532Z"
    },
    "papermill": {
     "duration": 0.252176,
     "end_time": "2023-04-24T16:01:26.585965",
     "exception": false,
     "start_time": "2023-04-24T16:01:26.333789",
     "status": "completed"
    },
    "tags": []
   },
   "outputs": [],
   "source": [
    "from gensim.models import Word2Vec"
   ]
  },
  {
   "cell_type": "code",
   "execution_count": 33,
   "id": "940ab552",
   "metadata": {
    "execution": {
     "iopub.execute_input": "2023-04-24T16:01:26.612868Z",
     "iopub.status.busy": "2023-04-24T16:01:26.612410Z",
     "iopub.status.idle": "2023-04-24T16:01:27.741640Z",
     "shell.execute_reply": "2023-04-24T16:01:27.740635Z"
    },
    "papermill": {
     "duration": 1.145643,
     "end_time": "2023-04-24T16:01:27.744111",
     "exception": false,
     "start_time": "2023-04-24T16:01:26.598468",
     "status": "completed"
    },
    "tags": []
   },
   "outputs": [
    {
     "data": {
      "text/plain": [
       "(0, 0)"
      ]
     },
     "execution_count": 33,
     "metadata": {},
     "output_type": "execute_result"
    }
   ],
   "source": [
    "# EMBEDDING_FILE = \"/kaggle/input/googlenewsvectorsnegative300/GoogleNews-vectors-negative300.bin\"\n",
    "# google_word2vec = KeyedVectors.load_word2vec_format(EMBEDDING_FILE, binary=True)\n",
    "\n",
    "google_model = Word2Vec(vector_size = 300, window=5, min_count = 2, workers = -1)\n",
    "google_model.build_vocab(corpus)\n",
    "\n",
    "# google_model.wv.intersect_word2vec_format(EMBEDDING_FILE, lockf=1, binary=True)\n",
    "\n",
    "google_model.train(corpus, total_examples=google_model.corpus_count, epochs = 5)"
   ]
  },
  {
   "cell_type": "code",
   "execution_count": 34,
   "id": "0ace8f10",
   "metadata": {
    "execution": {
     "iopub.execute_input": "2023-04-24T16:01:27.771559Z",
     "iopub.status.busy": "2023-04-24T16:01:27.770738Z",
     "iopub.status.idle": "2023-04-24T16:01:31.873885Z",
     "shell.execute_reply": "2023-04-24T16:01:31.872587Z"
    },
    "papermill": {
     "duration": 4.120899,
     "end_time": "2023-04-24T16:01:31.877456",
     "exception": false,
     "start_time": "2023-04-24T16:01:27.756557",
     "status": "completed"
    },
    "tags": []
   },
   "outputs": [],
   "source": [
    "start = timeit.default_timer()\n",
    "tfidf = TfidfVectorizer(analyzer='word', ngram_range=(1, 3), min_df = 5, stop_words='english')\n",
    "tfidf.fit(united_df['alls'])\n",
    "\n",
    "tfidf_list = dict(zip(tfidf.get_feature_names_out(), list(tfidf.idf_)))\n",
    "tfidf_feature = tfidf.get_feature_names_out()"
   ]
  },
  {
   "cell_type": "code",
   "execution_count": 35,
   "id": "0194ea82",
   "metadata": {
    "execution": {
     "iopub.execute_input": "2023-04-24T16:01:31.905602Z",
     "iopub.status.busy": "2023-04-24T16:01:31.905173Z",
     "iopub.status.idle": "2023-04-24T16:01:31.910243Z",
     "shell.execute_reply": "2023-04-24T16:01:31.908858Z"
    },
    "papermill": {
     "duration": 0.021963,
     "end_time": "2023-04-24T16:01:31.912752",
     "exception": false,
     "start_time": "2023-04-24T16:01:31.890789",
     "status": "completed"
    },
    "tags": []
   },
   "outputs": [],
   "source": [
    "from tqdm import tqdm"
   ]
  },
  {
   "cell_type": "code",
   "execution_count": 36,
   "id": "062e3e57",
   "metadata": {
    "execution": {
     "iopub.execute_input": "2023-04-24T16:01:31.940394Z",
     "iopub.status.busy": "2023-04-24T16:01:31.939499Z",
     "iopub.status.idle": "2023-04-24T16:14:32.589221Z",
     "shell.execute_reply": "2023-04-24T16:14:32.588195Z"
    },
    "papermill": {
     "duration": 780.666756,
     "end_time": "2023-04-24T16:14:32.592017",
     "exception": false,
     "start_time": "2023-04-24T16:01:31.925261",
     "status": "completed"
    },
    "tags": []
   },
   "outputs": [
    {
     "name": "stderr",
     "output_type": "stream",
     "text": [
      "100%|██████████| 27798/27798 [13:00<00:00, 35.61it/s]\n"
     ]
    }
   ],
   "source": [
    "tfidf_vectors = []; \n",
    "line = 0;\n",
    "for desc in tqdm(corpus): \n",
    "    sent_vec = np.zeros(300) \n",
    "    weight_sum =0; \n",
    "    for word in desc: \n",
    "        if word in google_model.wv.key_to_index and word in tfidf_feature:\n",
    "            vec = google_model.wv[word]\n",
    "            tf_idf = tfidf_list[word] * (desc.count(word) / len(desc))\n",
    "            sent_vec += (vec * tf_idf)\n",
    "            weight_sum += tf_idf\n",
    "    if weight_sum != 0:\n",
    "        sent_vec /= weight_sum\n",
    "    tfidf_vectors.append(sent_vec)\n",
    "    line += 1"
   ]
  },
  {
   "cell_type": "code",
   "execution_count": 37,
   "id": "310b0510",
   "metadata": {
    "execution": {
     "iopub.execute_input": "2023-04-24T16:14:33.423298Z",
     "iopub.status.busy": "2023-04-24T16:14:33.422577Z",
     "iopub.status.idle": "2023-04-24T16:14:41.046457Z",
     "shell.execute_reply": "2023-04-24T16:14:41.044863Z"
    },
    "papermill": {
     "duration": 8.050601,
     "end_time": "2023-04-24T16:14:41.050140",
     "exception": false,
     "start_time": "2023-04-24T16:14:32.999539",
     "status": "completed"
    },
    "tags": []
   },
   "outputs": [
    {
     "name": "stdout",
     "output_type": "stream",
     "text": [
      "Time:  793.2673451320001\n"
     ]
    }
   ],
   "source": [
    "cosine_similarities = cosine_similarity(tfidf_vectors,  tfidf_vectors)\n",
    "stop = timeit.default_timer()\n",
    "\n",
    "print('Time: ', stop - start) "
   ]
  },
  {
   "cell_type": "code",
   "execution_count": 38,
   "id": "1c2a0039",
   "metadata": {
    "execution": {
     "iopub.execute_input": "2023-04-24T16:14:41.974039Z",
     "iopub.status.busy": "2023-04-24T16:14:41.973591Z",
     "iopub.status.idle": "2023-04-24T16:14:42.022845Z",
     "shell.execute_reply": "2023-04-24T16:14:42.021552Z"
    },
    "papermill": {
     "duration": 0.46314,
     "end_time": "2023-04-24T16:14:42.025661",
     "exception": false,
     "start_time": "2023-04-24T16:14:41.562521",
     "status": "completed"
    },
    "tags": []
   },
   "outputs": [
    {
     "name": "stdout",
     "output_type": "stream",
     "text": [
      "Recommendation for Counter-Strike \n",
      "\n",
      "Recommendations using game name, developer, genre tags \n",
      "\n",
      "17649                   Astroe\n",
      "1        Team Fortress Classic\n",
      "10565       Team Racing League\n",
      "24129    Team A.R.G. Anthology\n",
      "14937                 RUGBY 18\n",
      "9934                Mr. Shifty\n",
      "6329                 Teeworlds\n",
      "1690                Sven Co-op\n",
      "16366                WarFallen\n",
      "23118            Delta Horizon\n",
      "Name: name, dtype: object \n",
      "\n"
     ]
    }
   ],
   "source": [
    "naz = \"Counter-Strike\"\n",
    "print('Recommendation for', naz, '\\n')\n",
    "print('Recommendations using game name, developer, genre tags \\n')\n",
    "print(get_rec(naz, cosine_similarities),'\\n')"
   ]
  },
  {
   "cell_type": "code",
   "execution_count": 39,
   "id": "6a9c1476",
   "metadata": {
    "execution": {
     "iopub.execute_input": "2023-04-24T16:14:42.844045Z",
     "iopub.status.busy": "2023-04-24T16:14:42.843590Z",
     "iopub.status.idle": "2023-04-24T16:14:42.882800Z",
     "shell.execute_reply": "2023-04-24T16:14:42.881084Z"
    },
    "papermill": {
     "duration": 0.451011,
     "end_time": "2023-04-24T16:14:42.886137",
     "exception": false,
     "start_time": "2023-04-24T16:14:42.435126",
     "status": "completed"
    },
    "tags": []
   },
   "outputs": [
    {
     "name": "stdout",
     "output_type": "stream",
     "text": [
      "Recommendation for Counter-Strike \n",
      "\n",
      "Recommendations using game name, developer, genre tags \n",
      "\n",
      "17649                   Astroe\n",
      "1        Team Fortress Classic\n",
      "10565       Team Racing League\n",
      "24129    Team A.R.G. Anthology\n",
      "14937                 RUGBY 18\n",
      "9934                Mr. Shifty\n",
      "6329                 Teeworlds\n",
      "1690                Sven Co-op\n",
      "16366                WarFallen\n",
      "23118            Delta Horizon\n",
      "Name: name, dtype: object \n",
      "\n"
     ]
    }
   ],
   "source": [
    "naz = \"Counter-Strike\"\n",
    "print('Recommendation for', naz, '\\n')\n",
    "print('Recommendations using game name, developer, genre tags \\n')\n",
    "print(get_rec(naz, cosine_similarities),'\\n')"
   ]
  },
  {
   "cell_type": "code",
   "execution_count": 40,
   "id": "64ae2b03",
   "metadata": {
    "execution": {
     "iopub.execute_input": "2023-04-24T16:14:43.757130Z",
     "iopub.status.busy": "2023-04-24T16:14:43.756422Z",
     "iopub.status.idle": "2023-04-24T16:14:43.794430Z",
     "shell.execute_reply": "2023-04-24T16:14:43.793048Z"
    },
    "papermill": {
     "duration": 0.444351,
     "end_time": "2023-04-24T16:14:43.797275",
     "exception": false,
     "start_time": "2023-04-24T16:14:43.352924",
     "status": "completed"
    },
    "tags": []
   },
   "outputs": [
    {
     "name": "stdout",
     "output_type": "stream",
     "text": [
      "Recommendation for Tropico 5 \n",
      "\n",
      "Recommendations using game name, developer, genre tags \n",
      "\n",
      "677                                       Tropico Reloaded\n",
      "1010                                             Tropico 4\n",
      "10064                                            Tropico 6\n",
      "530                                              Tropico 3\n",
      "12482                                   Robot City Stadium\n",
      "7524     Where Angels Cry: Tears of the Fallen (Collect...\n",
      "528                                       Grand Ages: Rome\n",
      "5224                                          Urban Empire\n",
      "10356                                   Crystal Control II\n",
      "25957                                          Contractors\n",
      "Name: name, dtype: object \n",
      "\n"
     ]
    }
   ],
   "source": [
    "naz = \"Tropico 5\"\n",
    "print('Recommendation for', naz, '\\n')\n",
    "print('Recommendations using game name, developer, genre tags \\n')\n",
    "print(get_rec(naz, cosine_similarities),'\\n')"
   ]
  },
  {
   "cell_type": "code",
   "execution_count": null,
   "id": "110b39ea",
   "metadata": {
    "papermill": {
     "duration": 0.40784,
     "end_time": "2023-04-24T16:14:44.611039",
     "exception": false,
     "start_time": "2023-04-24T16:14:44.203199",
     "status": "completed"
    },
    "tags": []
   },
   "outputs": [],
   "source": []
  }
 ],
 "metadata": {
  "kernelspec": {
   "display_name": "Python 3",
   "language": "python",
   "name": "python3"
  },
  "language_info": {
   "codemirror_mode": {
    "name": "ipython",
    "version": 3
   },
   "file_extension": ".py",
   "mimetype": "text/x-python",
   "name": "python",
   "nbconvert_exporter": "python",
   "pygments_lexer": "ipython3",
   "version": "3.7.12"
  },
  "papermill": {
   "default_parameters": {},
   "duration": 901.203238,
   "end_time": "2023-04-24T16:14:47.606432",
   "environment_variables": {},
   "exception": null,
   "input_path": "__notebook__.ipynb",
   "output_path": "__notebook__.ipynb",
   "parameters": {},
   "start_time": "2023-04-24T15:59:46.403194",
   "version": "2.4.0"
  }
 },
 "nbformat": 4,
 "nbformat_minor": 5
}
