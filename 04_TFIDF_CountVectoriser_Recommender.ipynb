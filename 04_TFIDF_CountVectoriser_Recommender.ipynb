{
 "cells": [
  {
   "cell_type": "code",
   "execution_count": 1,
   "id": "fb2118d0",
   "metadata": {
    "execution": {
     "iopub.execute_input": "2023-04-16T06:23:24.226107Z",
     "iopub.status.busy": "2023-04-16T06:23:24.225697Z",
     "iopub.status.idle": "2023-04-16T06:23:25.434634Z",
     "shell.execute_reply": "2023-04-16T06:23:25.433028Z"
    },
    "papermill": {
     "duration": 1.221391,
     "end_time": "2023-04-16T06:23:25.437411",
     "exception": false,
     "start_time": "2023-04-16T06:23:24.216020",
     "status": "completed"
    },
    "tags": []
   },
   "outputs": [],
   "source": [
    "import pandas as pd\n",
    "import numpy as np\n",
    "\n",
    "from sklearn.feature_extraction.text import CountVectorizer\n",
    "from sklearn.metrics.pairwise import cosine_similarity\n",
    "from sklearn.feature_extraction.text import TfidfVectorizer\n",
    "\n",
    "from scipy.sparse import hstack\n",
    "\n",
    "\n",
    "pd.options.mode.chained_assignment = None  # default='warn'"
   ]
  },
  {
   "cell_type": "code",
   "execution_count": 2,
   "id": "f62e1638",
   "metadata": {
    "execution": {
     "iopub.execute_input": "2023-04-16T06:23:25.453755Z",
     "iopub.status.busy": "2023-04-16T06:23:25.453375Z",
     "iopub.status.idle": "2023-04-16T06:23:25.471009Z",
     "shell.execute_reply": "2023-04-16T06:23:25.469672Z"
    },
    "papermill": {
     "duration": 0.029218,
     "end_time": "2023-04-16T06:23:25.474003",
     "exception": false,
     "start_time": "2023-04-16T06:23:25.444785",
     "status": "completed"
    },
    "tags": []
   },
   "outputs": [],
   "source": [
    "def reduce_mem_usage(df):\n",
    "    \"\"\" iterate through all the columns of a dataframe and modify the data type\n",
    "        to reduce memory usage.        \n",
    "    \"\"\"\n",
    "    start_mem = df.memory_usage().sum() / 1024**2\n",
    "    print('Memory usage of dataframe is {:.2f} MB'.format(start_mem))\n",
    "    \n",
    "    for col in df.columns:\n",
    "        col_type = df[col].dtype\n",
    "        \n",
    "        if col_type != object:\n",
    "            c_min = df[col].min()\n",
    "            c_max = df[col].max()\n",
    "            if str(col_type)[:3] == 'int':\n",
    "                if c_min > np.iinfo(np.int8).min and c_max < np.iinfo(np.int8).max:\n",
    "                    df[col] = df[col].astype(np.int8)\n",
    "                elif c_min > np.iinfo(np.int16).min and c_max < np.iinfo(np.int16).max:\n",
    "                    df[col] = df[col].astype(np.int16)\n",
    "                elif c_min > np.iinfo(np.int32).min and c_max < np.iinfo(np.int32).max:\n",
    "                    df[col] = df[col].astype(np.int32)\n",
    "                elif c_min > np.iinfo(np.int64).min and c_max < np.iinfo(np.int64).max:\n",
    "                    df[col] = df[col].astype(np.int64)  \n",
    "            else:\n",
    "                if c_min > np.finfo(np.float16).min and c_max < np.finfo(np.float16).max:\n",
    "                    df[col] = df[col].astype(np.float16)\n",
    "                elif c_min > np.finfo(np.float32).min and c_max < np.finfo(np.float32).max:\n",
    "                    df[col] = df[col].astype(np.float32)\n",
    "                else:\n",
    "                    df[col] = df[col].astype(np.float64)\n",
    "        else:\n",
    "            df[col] = df[col].astype('category')\n",
    "\n",
    "    end_mem = df.memory_usage().sum() / 1024**2\n",
    "    print('Memory usage after optimization is: {:.2f} MB'.format(end_mem))\n",
    "    print('Decreased by {:.1f}%'.format(100 * (start_mem - end_mem) / start_mem))\n",
    "    \n",
    "    return df\n",
    "\n",
    "\n",
    "def import_data(file):\n",
    "    \"\"\"create a dataframe and optimize its memory usage\"\"\"\n",
    "    df = pd.read_csv(file, parse_dates=True, keep_date_col=True)\n",
    "    df = reduce_mem_usage(df)\n",
    "    return df"
   ]
  },
  {
   "cell_type": "code",
   "execution_count": 3,
   "id": "c94565cc",
   "metadata": {
    "execution": {
     "iopub.execute_input": "2023-04-16T06:23:25.490711Z",
     "iopub.status.busy": "2023-04-16T06:23:25.490339Z",
     "iopub.status.idle": "2023-04-16T06:23:26.879309Z",
     "shell.execute_reply": "2023-04-16T06:23:26.877644Z"
    },
    "papermill": {
     "duration": 1.400636,
     "end_time": "2023-04-16T06:23:26.882183",
     "exception": false,
     "start_time": "2023-04-16T06:23:25.481547",
     "status": "completed"
    },
    "tags": []
   },
   "outputs": [],
   "source": [
    "# Importing the files you want\n",
    "united_df = pd.read_csv('/kaggle/input/rs-final/clean_data.csv')\n",
    "# united_df = import_data('/kaggle/input/rs-final/clean_data.csv')"
   ]
  },
  {
   "cell_type": "code",
   "execution_count": 4,
   "id": "8590d6c3",
   "metadata": {
    "execution": {
     "iopub.execute_input": "2023-04-16T06:23:26.898929Z",
     "iopub.status.busy": "2023-04-16T06:23:26.898512Z",
     "iopub.status.idle": "2023-04-16T06:23:26.933458Z",
     "shell.execute_reply": "2023-04-16T06:23:26.932297Z"
    },
    "papermill": {
     "duration": 0.046078,
     "end_time": "2023-04-16T06:23:26.935876",
     "exception": false,
     "start_time": "2023-04-16T06:23:26.889798",
     "status": "completed"
    },
    "tags": []
   },
   "outputs": [
    {
     "data": {
      "text/html": [
       "<div>\n",
       "<style scoped>\n",
       "    .dataframe tbody tr th:only-of-type {\n",
       "        vertical-align: middle;\n",
       "    }\n",
       "\n",
       "    .dataframe tbody tr th {\n",
       "        vertical-align: top;\n",
       "    }\n",
       "\n",
       "    .dataframe thead th {\n",
       "        text-align: right;\n",
       "    }\n",
       "</style>\n",
       "<table border=\"1\" class=\"dataframe\">\n",
       "  <thead>\n",
       "    <tr style=\"text-align: right;\">\n",
       "      <th></th>\n",
       "      <th>name</th>\n",
       "      <th>steam_appid</th>\n",
       "      <th>required_age</th>\n",
       "      <th>is_free</th>\n",
       "      <th>about_the_game</th>\n",
       "      <th>short_description</th>\n",
       "      <th>developers</th>\n",
       "      <th>platforms</th>\n",
       "      <th>release_date</th>\n",
       "      <th>positive</th>\n",
       "      <th>negative</th>\n",
       "      <th>owners</th>\n",
       "      <th>average_forever</th>\n",
       "      <th>median_forever</th>\n",
       "      <th>languages</th>\n",
       "      <th>tags</th>\n",
       "    </tr>\n",
       "  </thead>\n",
       "  <tbody>\n",
       "    <tr>\n",
       "      <th>0</th>\n",
       "      <td>Counter-Strike</td>\n",
       "      <td>10</td>\n",
       "      <td>0.0</td>\n",
       "      <td>False</td>\n",
       "      <td>Play the world's number 1 online action game. ...</td>\n",
       "      <td>Play the world's number 1 online action game. ...</td>\n",
       "      <td>['Valve']</td>\n",
       "      <td>{'windows': True, 'mac': True, 'linux': True}</td>\n",
       "      <td>{'coming_soon': False, 'date': '1 Nov, 2000'}</td>\n",
       "      <td>124534</td>\n",
       "      <td>3339</td>\n",
       "      <td>10000000-20000000</td>\n",
       "      <td>17612</td>\n",
       "      <td>317</td>\n",
       "      <td>English, French, German, Italian, Spanish - Sp...</td>\n",
       "      <td>Action;FPS;Multiplayer</td>\n",
       "    </tr>\n",
       "    <tr>\n",
       "      <th>1</th>\n",
       "      <td>Team Fortress Classic</td>\n",
       "      <td>20</td>\n",
       "      <td>0.0</td>\n",
       "      <td>False</td>\n",
       "      <td>One of the most popular online action games of...</td>\n",
       "      <td>One of the most popular online action games of...</td>\n",
       "      <td>['Valve']</td>\n",
       "      <td>{'windows': True, 'mac': True, 'linux': True}</td>\n",
       "      <td>{'coming_soon': False, 'date': '1 Apr, 1999'}</td>\n",
       "      <td>3318</td>\n",
       "      <td>633</td>\n",
       "      <td>5000000-10000000</td>\n",
       "      <td>277</td>\n",
       "      <td>62</td>\n",
       "      <td>English, French, German, Italian, Spanish - Sp...</td>\n",
       "      <td>Action;FPS;Multiplayer</td>\n",
       "    </tr>\n",
       "    <tr>\n",
       "      <th>2</th>\n",
       "      <td>Day of Defeat</td>\n",
       "      <td>30</td>\n",
       "      <td>0.0</td>\n",
       "      <td>False</td>\n",
       "      <td>Enlist in an intense brand of Axis vs. Allied ...</td>\n",
       "      <td>Enlist in an intense brand of Axis vs. Allied ...</td>\n",
       "      <td>['Valve']</td>\n",
       "      <td>{'windows': True, 'mac': True, 'linux': True}</td>\n",
       "      <td>{'coming_soon': False, 'date': '1 May, 2003'}</td>\n",
       "      <td>3416</td>\n",
       "      <td>398</td>\n",
       "      <td>5000000-10000000</td>\n",
       "      <td>187</td>\n",
       "      <td>34</td>\n",
       "      <td>English, French, German, Italian, Spanish - Spain</td>\n",
       "      <td>FPS;World War II;Multiplayer</td>\n",
       "    </tr>\n",
       "    <tr>\n",
       "      <th>3</th>\n",
       "      <td>Deathmatch Classic</td>\n",
       "      <td>40</td>\n",
       "      <td>0.0</td>\n",
       "      <td>False</td>\n",
       "      <td>Enjoy fast-paced multiplayer gaming with Death...</td>\n",
       "      <td>Enjoy fast-paced multiplayer gaming with Death...</td>\n",
       "      <td>['Valve']</td>\n",
       "      <td>{'windows': True, 'mac': True, 'linux': True}</td>\n",
       "      <td>{'coming_soon': False, 'date': '1 Jun, 2001'}</td>\n",
       "      <td>1273</td>\n",
       "      <td>267</td>\n",
       "      <td>5000000-10000000</td>\n",
       "      <td>258</td>\n",
       "      <td>184</td>\n",
       "      <td>English, French, German, Italian, Spanish - Sp...</td>\n",
       "      <td>Action;FPS;Multiplayer</td>\n",
       "    </tr>\n",
       "    <tr>\n",
       "      <th>4</th>\n",
       "      <td>Half-Life: Opposing Force</td>\n",
       "      <td>50</td>\n",
       "      <td>0.0</td>\n",
       "      <td>False</td>\n",
       "      <td>Return to the Black Mesa Research Facility as ...</td>\n",
       "      <td>Return to the Black Mesa Research Facility as ...</td>\n",
       "      <td>['Gearbox Software']</td>\n",
       "      <td>{'windows': True, 'mac': True, 'linux': True}</td>\n",
       "      <td>{'coming_soon': False, 'date': '1 Nov, 1999'}</td>\n",
       "      <td>5250</td>\n",
       "      <td>288</td>\n",
       "      <td>5000000-10000000</td>\n",
       "      <td>624</td>\n",
       "      <td>415</td>\n",
       "      <td>English, French, German, Korean</td>\n",
       "      <td>FPS;Action;Sci-fi</td>\n",
       "    </tr>\n",
       "  </tbody>\n",
       "</table>\n",
       "</div>"
      ],
      "text/plain": [
       "                        name  steam_appid  required_age  is_free  \\\n",
       "0             Counter-Strike           10           0.0    False   \n",
       "1      Team Fortress Classic           20           0.0    False   \n",
       "2              Day of Defeat           30           0.0    False   \n",
       "3         Deathmatch Classic           40           0.0    False   \n",
       "4  Half-Life: Opposing Force           50           0.0    False   \n",
       "\n",
       "                                      about_the_game  \\\n",
       "0  Play the world's number 1 online action game. ...   \n",
       "1  One of the most popular online action games of...   \n",
       "2  Enlist in an intense brand of Axis vs. Allied ...   \n",
       "3  Enjoy fast-paced multiplayer gaming with Death...   \n",
       "4  Return to the Black Mesa Research Facility as ...   \n",
       "\n",
       "                                   short_description            developers  \\\n",
       "0  Play the world's number 1 online action game. ...             ['Valve']   \n",
       "1  One of the most popular online action games of...             ['Valve']   \n",
       "2  Enlist in an intense brand of Axis vs. Allied ...             ['Valve']   \n",
       "3  Enjoy fast-paced multiplayer gaming with Death...             ['Valve']   \n",
       "4  Return to the Black Mesa Research Facility as ...  ['Gearbox Software']   \n",
       "\n",
       "                                       platforms  \\\n",
       "0  {'windows': True, 'mac': True, 'linux': True}   \n",
       "1  {'windows': True, 'mac': True, 'linux': True}   \n",
       "2  {'windows': True, 'mac': True, 'linux': True}   \n",
       "3  {'windows': True, 'mac': True, 'linux': True}   \n",
       "4  {'windows': True, 'mac': True, 'linux': True}   \n",
       "\n",
       "                                    release_date  positive  negative  \\\n",
       "0  {'coming_soon': False, 'date': '1 Nov, 2000'}    124534      3339   \n",
       "1  {'coming_soon': False, 'date': '1 Apr, 1999'}      3318       633   \n",
       "2  {'coming_soon': False, 'date': '1 May, 2003'}      3416       398   \n",
       "3  {'coming_soon': False, 'date': '1 Jun, 2001'}      1273       267   \n",
       "4  {'coming_soon': False, 'date': '1 Nov, 1999'}      5250       288   \n",
       "\n",
       "              owners  average_forever  median_forever  \\\n",
       "0  10000000-20000000            17612             317   \n",
       "1   5000000-10000000              277              62   \n",
       "2   5000000-10000000              187              34   \n",
       "3   5000000-10000000              258             184   \n",
       "4   5000000-10000000              624             415   \n",
       "\n",
       "                                           languages  \\\n",
       "0  English, French, German, Italian, Spanish - Sp...   \n",
       "1  English, French, German, Italian, Spanish - Sp...   \n",
       "2  English, French, German, Italian, Spanish - Spain   \n",
       "3  English, French, German, Italian, Spanish - Sp...   \n",
       "4                    English, French, German, Korean   \n",
       "\n",
       "                           tags  \n",
       "0        Action;FPS;Multiplayer  \n",
       "1        Action;FPS;Multiplayer  \n",
       "2  FPS;World War II;Multiplayer  \n",
       "3        Action;FPS;Multiplayer  \n",
       "4             FPS;Action;Sci-fi  "
      ]
     },
     "execution_count": 4,
     "metadata": {},
     "output_type": "execute_result"
    }
   ],
   "source": [
    "united_df.head()"
   ]
  },
  {
   "cell_type": "code",
   "execution_count": 5,
   "id": "61050f69",
   "metadata": {
    "execution": {
     "iopub.execute_input": "2023-04-16T06:23:26.953369Z",
     "iopub.status.busy": "2023-04-16T06:23:26.952974Z",
     "iopub.status.idle": "2023-04-16T06:23:26.959572Z",
     "shell.execute_reply": "2023-04-16T06:23:26.958009Z"
    },
    "papermill": {
     "duration": 0.018886,
     "end_time": "2023-04-16T06:23:26.962536",
     "exception": false,
     "start_time": "2023-04-16T06:23:26.943650",
     "status": "completed"
    },
    "tags": []
   },
   "outputs": [],
   "source": [
    "# Separating tags with a space\n",
    "def globalization(strok:str):\n",
    "    return strok.replace(';', ' ')\n",
    "\n",
    "# Removing duplicate tags\n",
    "def del_rep(strok:str):\n",
    "    spl_strok = strok.split()\n",
    "    return ' '.join(sorted(set(spl_strok), key=spl_strok.index))\n",
    "\n",
    "# Converting to lower case\n",
    "def to_low(strok:str):\n",
    "    return strok.lower()"
   ]
  },
  {
   "cell_type": "code",
   "execution_count": 6,
   "id": "afe6c5ab",
   "metadata": {
    "execution": {
     "iopub.execute_input": "2023-04-16T06:23:26.979790Z",
     "iopub.status.busy": "2023-04-16T06:23:26.979151Z",
     "iopub.status.idle": "2023-04-16T06:23:26.997370Z",
     "shell.execute_reply": "2023-04-16T06:23:26.995871Z"
    },
    "papermill": {
     "duration": 0.029718,
     "end_time": "2023-04-16T06:23:26.999921",
     "exception": false,
     "start_time": "2023-04-16T06:23:26.970203",
     "status": "completed"
    },
    "tags": []
   },
   "outputs": [],
   "source": [
    "united_df.developers = united_df.developers.str[2:-2]"
   ]
  },
  {
   "cell_type": "code",
   "execution_count": 7,
   "id": "8b9255a6",
   "metadata": {
    "execution": {
     "iopub.execute_input": "2023-04-16T06:23:27.017086Z",
     "iopub.status.busy": "2023-04-16T06:23:27.016659Z",
     "iopub.status.idle": "2023-04-16T06:23:27.114137Z",
     "shell.execute_reply": "2023-04-16T06:23:27.112521Z"
    },
    "papermill": {
     "duration": 0.109352,
     "end_time": "2023-04-16T06:23:27.117005",
     "exception": false,
     "start_time": "2023-04-16T06:23:27.007653",
     "status": "completed"
    },
    "tags": []
   },
   "outputs": [],
   "source": [
    "# Separating tags with a space\n",
    "united_df['tags'] = united_df['tags'].apply(globalization)\n",
    "united_df['tags'] = united_df['tags'].apply(del_rep)\n",
    "\n",
    "# Convert strings to lowercase and concatenate into one column\n",
    "cols = ['developers', 'tags']\n",
    "\n",
    "united_df['alls'] = united_df['name'].copy().apply(to_low)\n",
    "\n",
    "for i in cols:\n",
    "  united_df['alls'] += ' ' + united_df[i].apply(to_low)"
   ]
  },
  {
   "cell_type": "code",
   "execution_count": 8,
   "id": "ec542230",
   "metadata": {
    "execution": {
     "iopub.execute_input": "2023-04-16T06:23:27.136083Z",
     "iopub.status.busy": "2023-04-16T06:23:27.135010Z",
     "iopub.status.idle": "2023-04-16T06:23:27.144856Z",
     "shell.execute_reply": "2023-04-16T06:23:27.143885Z"
    },
    "papermill": {
     "duration": 0.021685,
     "end_time": "2023-04-16T06:23:27.147399",
     "exception": false,
     "start_time": "2023-04-16T06:23:27.125714",
     "status": "completed"
    },
    "tags": []
   },
   "outputs": [
    {
     "data": {
      "text/plain": [
       "0              counter-strike valve action fps multiplayer\n",
       "1        team fortress classic valve action fps multipl...\n",
       "2         day of defeat valve fps world war ii multiplayer\n",
       "3          deathmatch classic valve action fps multiplayer\n",
       "4        half-life: opposing force gearbox software fps...\n",
       "                               ...                        \n",
       "27793    room of pandora shen jiawei adventure indie ca...\n",
       "27794      cyber gun semyon maximov action indie adventure\n",
       "27795     super star blast entwicklerx action indie casual\n",
       "27796    new yankee 7: deer hunters yustas game studio ...\n",
       "27797    rune lord adept studios gd indie casual adventure\n",
       "Name: alls, Length: 27798, dtype: object"
      ]
     },
     "execution_count": 8,
     "metadata": {},
     "output_type": "execute_result"
    }
   ],
   "source": [
    "# How it looks\n",
    "united_df['alls']"
   ]
  },
  {
   "cell_type": "code",
   "execution_count": 9,
   "id": "82631ef9",
   "metadata": {
    "execution": {
     "iopub.execute_input": "2023-04-16T06:23:27.164575Z",
     "iopub.status.busy": "2023-04-16T06:23:27.164207Z",
     "iopub.status.idle": "2023-04-16T06:23:41.051510Z",
     "shell.execute_reply": "2023-04-16T06:23:41.050010Z"
    },
    "papermill": {
     "duration": 13.898966,
     "end_time": "2023-04-16T06:23:41.054119",
     "exception": false,
     "start_time": "2023-04-16T06:23:27.155153",
     "status": "completed"
    },
    "tags": []
   },
   "outputs": [],
   "source": [
    "# Convert a collection of text documents to a matrix of token counts\n",
    "count_vec = CountVectorizer(stop_words='english')\n",
    "count_matrix = count_vec.fit_transform(united_df['alls'])\n",
    "\n",
    "# Compute cosine similarity\n",
    "cosine_sim = cosine_similarity(count_matrix, count_matrix)"
   ]
  },
  {
   "cell_type": "code",
   "execution_count": 10,
   "id": "25e5a800",
   "metadata": {
    "execution": {
     "iopub.execute_input": "2023-04-16T06:23:41.071671Z",
     "iopub.status.busy": "2023-04-16T06:23:41.071255Z",
     "iopub.status.idle": "2023-04-16T06:23:41.933122Z",
     "shell.execute_reply": "2023-04-16T06:23:41.931357Z"
    },
    "papermill": {
     "duration": 0.873787,
     "end_time": "2023-04-16T06:23:41.935783",
     "exception": false,
     "start_time": "2023-04-16T06:23:41.061996",
     "status": "completed"
    },
    "tags": []
   },
   "outputs": [
    {
     "name": "stdout",
     "output_type": "stream",
     "text": [
      "[nltk_data] Downloading package stopwords to /usr/share/nltk_data...\n",
      "[nltk_data]   Package stopwords is already up-to-date!\n",
      "[nltk_data] Downloading package wordnet to /usr/share/nltk_data...\n",
      "[nltk_data]   Package wordnet is already up-to-date!\n",
      "[nltk_data] Downloading package punkt to /usr/share/nltk_data...\n",
      "[nltk_data]   Package punkt is already up-to-date!\n"
     ]
    },
    {
     "data": {
      "text/plain": [
       "True"
      ]
     },
     "execution_count": 10,
     "metadata": {},
     "output_type": "execute_result"
    }
   ],
   "source": [
    "import string # used for preprocessing\n",
    "import re # used for preprocessing\n",
    "import nltk # the Natural Language Toolkit, used for preprocessing\n",
    "from nltk.tokenize import word_tokenize\n",
    "from nltk.corpus import stopwords # used for preprocessing\n",
    "from nltk.stem import WordNetLemmatizer\n",
    "nltk.download('stopwords')\n",
    "nltk.download('wordnet')\n",
    "nltk.download('punkt')"
   ]
  },
  {
   "cell_type": "code",
   "execution_count": 11,
   "id": "23afcfe3",
   "metadata": {
    "execution": {
     "iopub.execute_input": "2023-04-16T06:23:41.954256Z",
     "iopub.status.busy": "2023-04-16T06:23:41.953801Z",
     "iopub.status.idle": "2023-04-16T06:23:42.574460Z",
     "shell.execute_reply": "2023-04-16T06:23:42.572816Z"
    },
    "papermill": {
     "duration": 0.63285,
     "end_time": "2023-04-16T06:23:42.577156",
     "exception": false,
     "start_time": "2023-04-16T06:23:41.944306",
     "status": "completed"
    },
    "tags": []
   },
   "outputs": [
    {
     "name": "stdout",
     "output_type": "stream",
     "text": [
      "Archive:  /usr/share/nltk_data/corpora/wordnet.zip\r\n",
      "   creating: /usr/share/nltk_data/corpora/wordnet/\r\n",
      "  inflating: /usr/share/nltk_data/corpora/wordnet/lexnames  \r\n",
      "  inflating: /usr/share/nltk_data/corpora/wordnet/data.verb  \r\n",
      "  inflating: /usr/share/nltk_data/corpora/wordnet/index.adv  \r\n",
      "  inflating: /usr/share/nltk_data/corpora/wordnet/adv.exc  \r\n",
      "  inflating: /usr/share/nltk_data/corpora/wordnet/index.verb  \r\n",
      "  inflating: /usr/share/nltk_data/corpora/wordnet/cntlist.rev  \r\n",
      "  inflating: /usr/share/nltk_data/corpora/wordnet/data.adj  \r\n",
      "  inflating: /usr/share/nltk_data/corpora/wordnet/index.adj  \r\n",
      "  inflating: /usr/share/nltk_data/corpora/wordnet/LICENSE  \r\n",
      "  inflating: /usr/share/nltk_data/corpora/wordnet/citation.bib  \r\n",
      "  inflating: /usr/share/nltk_data/corpora/wordnet/noun.exc  \r\n",
      "  inflating: /usr/share/nltk_data/corpora/wordnet/verb.exc  \r\n",
      "  inflating: /usr/share/nltk_data/corpora/wordnet/README  \r\n",
      "  inflating: /usr/share/nltk_data/corpora/wordnet/index.sense  \r\n",
      "  inflating: /usr/share/nltk_data/corpora/wordnet/data.noun  \r\n",
      "  inflating: /usr/share/nltk_data/corpora/wordnet/data.adv  \r\n",
      "  inflating: /usr/share/nltk_data/corpora/wordnet/index.noun  \r\n",
      "  inflating: /usr/share/nltk_data/corpora/wordnet/adj.exc  \r\n"
     ]
    }
   ],
   "source": [
    "!unzip /usr/share/nltk_data/corpora/wordnet.zip -d /usr/share/nltk_data/corpora/"
   ]
  },
  {
   "cell_type": "code",
   "execution_count": 12,
   "id": "6abec3c1",
   "metadata": {
    "execution": {
     "iopub.execute_input": "2023-04-16T06:23:42.596180Z",
     "iopub.status.busy": "2023-04-16T06:23:42.595668Z",
     "iopub.status.idle": "2023-04-16T06:23:42.608784Z",
     "shell.execute_reply": "2023-04-16T06:23:42.607554Z"
    },
    "papermill": {
     "duration": 0.025355,
     "end_time": "2023-04-16T06:23:42.610895",
     "exception": false,
     "start_time": "2023-04-16T06:23:42.585540",
     "status": "completed"
    },
    "tags": []
   },
   "outputs": [],
   "source": [
    "# remove urls, handles, and the hashtag from hashtags (taken from https://stackoverflow.com/questions/8376691/how-to-remove-hashtag-user-link-of-a-tweet-using-regular-expression)\n",
    "def remove_urls(text):\n",
    "    new_text = ' '.join(re.sub(\"(@[A-Za-z0-9]+)|([^0-9A-Za-z \\t])|(\\w+:\\/\\/\\S+)\",\" \",text).split())\n",
    "    return new_text\n",
    "# make all text lowercase\n",
    "def text_lowercase(text):\n",
    "    return text.lower()\n",
    "# remove numbers\n",
    "def remove_numbers(text):\n",
    "    result = re.sub(r'\\d+', '', text)\n",
    "    return result\n",
    "# remove punctuation\n",
    "def remove_punctuation(text):\n",
    "    translator = str.maketrans('', '', string.punctuation)\n",
    "    return text.translate(translator)\n",
    "# tokenize\n",
    "def tokenize(text):\n",
    "    text = word_tokenize(text)\n",
    "    return text\n",
    "# remove stopwords\n",
    "stop_words = set(stopwords.words('english'))\n",
    "def remove_stopwords(text):\n",
    "    text = [i for i in text if not i in stop_words]\n",
    "    return text\n",
    "# lemmatize\n",
    "lemmatizer = WordNetLemmatizer()\n",
    "def lemmatize(text):\n",
    "    text = [lemmatizer.lemmatize(token) for token in text]\n",
    "    return text\n",
    "\n",
    "def preprocessing(text):\n",
    "    text = text_lowercase(text)\n",
    "    text = remove_urls(text)\n",
    "    text = remove_numbers(text)\n",
    "    text = remove_punctuation(text)\n",
    "    text = tokenize(text)\n",
    "    text = remove_stopwords(text)\n",
    "    text = lemmatize(text)\n",
    "    text = ' '.join(text)\n",
    "    return text"
   ]
  },
  {
   "cell_type": "code",
   "execution_count": 13,
   "id": "e83da1b8",
   "metadata": {
    "execution": {
     "iopub.execute_input": "2023-04-16T06:23:42.629508Z",
     "iopub.status.busy": "2023-04-16T06:23:42.628678Z",
     "iopub.status.idle": "2023-04-16T06:23:53.157026Z",
     "shell.execute_reply": "2023-04-16T06:23:53.155882Z"
    },
    "papermill": {
     "duration": 10.540446,
     "end_time": "2023-04-16T06:23:53.159614",
     "exception": false,
     "start_time": "2023-04-16T06:23:42.619168",
     "status": "completed"
    },
    "tags": []
   },
   "outputs": [],
   "source": [
    "united_df['short_description']=united_df['short_description'].apply(preprocessing)"
   ]
  },
  {
   "cell_type": "code",
   "execution_count": 14,
   "id": "ac4518a0",
   "metadata": {
    "execution": {
     "iopub.execute_input": "2023-04-16T06:23:53.178384Z",
     "iopub.status.busy": "2023-04-16T06:23:53.177984Z",
     "iopub.status.idle": "2023-04-16T06:23:53.186447Z",
     "shell.execute_reply": "2023-04-16T06:23:53.184923Z"
    },
    "papermill": {
     "duration": 0.02054,
     "end_time": "2023-04-16T06:23:53.188682",
     "exception": false,
     "start_time": "2023-04-16T06:23:53.168142",
     "status": "completed"
    },
    "tags": []
   },
   "outputs": [
    {
     "data": {
      "text/plain": [
       "0    play world number online action game engage in...\n",
       "1    one popular online action game time team fortr...\n",
       "2    enlist intense brand axis v allied teamplay se...\n",
       "3    enjoy fast paced multiplayer gaming deathmatch...\n",
       "4    return black mesa research facility one milita...\n",
       "Name: short_description, dtype: object"
      ]
     },
     "execution_count": 14,
     "metadata": {},
     "output_type": "execute_result"
    }
   ],
   "source": [
    "united_df['short_description'].head()"
   ]
  },
  {
   "cell_type": "code",
   "execution_count": 15,
   "id": "e8e28ed1",
   "metadata": {
    "execution": {
     "iopub.execute_input": "2023-04-16T06:23:53.207143Z",
     "iopub.status.busy": "2023-04-16T06:23:53.206707Z",
     "iopub.status.idle": "2023-04-16T06:24:12.034717Z",
     "shell.execute_reply": "2023-04-16T06:24:12.033753Z"
    },
    "papermill": {
     "duration": 18.840487,
     "end_time": "2023-04-16T06:24:12.037451",
     "exception": false,
     "start_time": "2023-04-16T06:23:53.196964",
     "status": "completed"
    },
    "tags": []
   },
   "outputs": [],
   "source": [
    "# Convert a collection of raw documents to a matrix of TF-IDF features\n",
    "tfidf = TfidfVectorizer(stop_words='english')\n",
    "tfidf_matrix = tfidf.fit_transform(united_df['short_description'])\n",
    "\n",
    "# Stack sparse matrices horizontally\n",
    "st = hstack([count_matrix, tfidf_matrix])\n",
    "\n",
    "# Compute cosine similarity\n",
    "cosine_sim2 = cosine_similarity(st, st)"
   ]
  },
  {
   "cell_type": "code",
   "execution_count": 16,
   "id": "0f453ee9",
   "metadata": {
    "execution": {
     "iopub.execute_input": "2023-04-16T06:24:12.056341Z",
     "iopub.status.busy": "2023-04-16T06:24:12.055913Z",
     "iopub.status.idle": "2023-04-16T06:24:12.064058Z",
     "shell.execute_reply": "2023-04-16T06:24:12.062444Z"
    },
    "papermill": {
     "duration": 0.020569,
     "end_time": "2023-04-16T06:24:12.066498",
     "exception": false,
     "start_time": "2023-04-16T06:24:12.045929",
     "status": "completed"
    },
    "tags": []
   },
   "outputs": [],
   "source": [
    "# The main function that makes recommendations\n",
    "def get_rec(nam:str, cosine):\n",
    "#     Determine the index\n",
    "    ind = united_df[united_df['name'] == nam].index.to_list()[0]\n",
    "    \n",
    "#     Obtaining cosine convergence by index\n",
    "    cos_scor = list(enumerate(cosine[ind]))\n",
    "    \n",
    "#     Getting the most suitable games\n",
    "    cos_scor = sorted(cos_scor, key=lambda x: x[1], reverse=True)\n",
    "    cos_scor = cos_scor[1:11]\n",
    "    ten_ind = [i[0] for i in cos_scor]\n",
    "    return united_df['name'].iloc[ten_ind]"
   ]
  },
  {
   "cell_type": "code",
   "execution_count": 17,
   "id": "755ba40a",
   "metadata": {
    "execution": {
     "iopub.execute_input": "2023-04-16T06:24:12.084792Z",
     "iopub.status.busy": "2023-04-16T06:24:12.084393Z",
     "iopub.status.idle": "2023-04-16T06:24:12.150981Z",
     "shell.execute_reply": "2023-04-16T06:24:12.149919Z"
    },
    "papermill": {
     "duration": 0.079261,
     "end_time": "2023-04-16T06:24:12.154092",
     "exception": false,
     "start_time": "2023-04-16T06:24:12.074831",
     "status": "completed"
    },
    "tags": []
   },
   "outputs": [
    {
     "name": "stdout",
     "output_type": "stream",
     "text": [
      "Recommendation for S.T.A.L.K.E.R.: Shadow of Chernobyl \n",
      "\n",
      "Recommendations using game name, developer, genre and tags \n",
      "\n",
      "846          S.T.A.L.K.E.R.: Call of Pripyat\n",
      "471                S.T.A.L.K.E.R.: Clear Sky\n",
      "509                                Fallout 3\n",
      "6209                               Fallout 4\n",
      "514      Fallout 3: Game of the Year Edition\n",
      "17577      BLOCK WARRIORS: \"Open World\" Game\n",
      "2961      Hard Truck Apocalypse / Ex Machina\n",
      "7196                    World Ship Simulator\n",
      "14447                           Fallout 4 VR\n",
      "515                       Fallout: New Vegas\n",
      "Name: name, dtype: object \n",
      "\n",
      "Recommendations using game name, developer, genre, tags and description \n",
      "\n",
      "None\n",
      "846          S.T.A.L.K.E.R.: Call of Pripyat\n",
      "471                S.T.A.L.K.E.R.: Clear Sky\n",
      "509                                Fallout 3\n",
      "6209                               Fallout 4\n",
      "514      Fallout 3: Game of the Year Edition\n",
      "17577      BLOCK WARRIORS: \"Open World\" Game\n",
      "7196                    World Ship Simulator\n",
      "14447                           Fallout 4 VR\n",
      "2961      Hard Truck Apocalypse / Ex Machina\n",
      "515                       Fallout: New Vegas\n",
      "Name: name, dtype: object\n"
     ]
    }
   ],
   "source": [
    "# Example 1\n",
    "naz = \"S.T.A.L.K.E.R.: Shadow of Chernobyl\"\n",
    "print('Recommendation for', naz, '\\n')\n",
    "print('Recommendations using game name, developer, genre and tags \\n')\n",
    "print(get_rec(naz, cosine_sim),'\\n')\n",
    "print(print('Recommendations using game name, developer, genre, tags and description \\n'))\n",
    "print(get_rec(naz, cosine_sim2))"
   ]
  },
  {
   "cell_type": "code",
   "execution_count": 18,
   "id": "f35c5098",
   "metadata": {
    "execution": {
     "iopub.execute_input": "2023-04-16T06:24:12.172751Z",
     "iopub.status.busy": "2023-04-16T06:24:12.172341Z",
     "iopub.status.idle": "2023-04-16T06:24:12.216725Z",
     "shell.execute_reply": "2023-04-16T06:24:12.215639Z"
    },
    "papermill": {
     "duration": 0.056474,
     "end_time": "2023-04-16T06:24:12.219192",
     "exception": false,
     "start_time": "2023-04-16T06:24:12.162718",
     "status": "completed"
    },
    "tags": []
   },
   "outputs": [
    {
     "name": "stdout",
     "output_type": "stream",
     "text": [
      "Recommendation for Call of Duty® 4: Modern Warfare® \n",
      "\n",
      "Recommendations using game name, developer, genre and tags \n",
      "\n",
      "279              Call of Duty®: Modern Warfare® 2\n",
      "3176              Call of Duty®: Infinite Warfare\n",
      "72                                Call of Duty® 2\n",
      "6802    Call of Duty®: Modern Warfare® Remastered\n",
      "1432                        Call of Duty®: Ghosts\n",
      "71                                  Call of Duty®\n",
      "1518        Call of Duty: Black Ops - Mac Edition\n",
      "3702                 Call of Duty®: Black Ops III\n",
      "1304                  Call of Duty®: Black Ops II\n",
      "5                                        Ricochet\n",
      "Name: name, dtype: object \n",
      "\n",
      "Recommendations using game name, developer, genre, tags and description \n",
      "\n",
      "None\n",
      "279              Call of Duty®: Modern Warfare® 2\n",
      "3176              Call of Duty®: Infinite Warfare\n",
      "72                                Call of Duty® 2\n",
      "6802    Call of Duty®: Modern Warfare® Remastered\n",
      "1432                        Call of Duty®: Ghosts\n",
      "71                                  Call of Duty®\n",
      "1518        Call of Duty: Black Ops - Mac Edition\n",
      "3702                 Call of Duty®: Black Ops III\n",
      "1304                  Call of Duty®: Black Ops II\n",
      "5                                        Ricochet\n",
      "Name: name, dtype: object\n"
     ]
    }
   ],
   "source": [
    "# Example 2\n",
    "naz = \"Call of Duty® 4: Modern Warfare®\"\n",
    "print('Recommendation for', naz, '\\n')\n",
    "print('Recommendations using game name, developer, genre and tags \\n')\n",
    "print(get_rec(naz, cosine_sim),'\\n')\n",
    "print(print('Recommendations using game name, developer, genre, tags and description \\n'))\n",
    "print(get_rec(naz, cosine_sim2))"
   ]
  },
  {
   "cell_type": "code",
   "execution_count": 19,
   "id": "61bd2fb4",
   "metadata": {
    "execution": {
     "iopub.execute_input": "2023-04-16T06:24:12.238431Z",
     "iopub.status.busy": "2023-04-16T06:24:12.237761Z",
     "iopub.status.idle": "2023-04-16T06:24:12.280146Z",
     "shell.execute_reply": "2023-04-16T06:24:12.278634Z"
    },
    "papermill": {
     "duration": 0.055257,
     "end_time": "2023-04-16T06:24:12.282959",
     "exception": false,
     "start_time": "2023-04-16T06:24:12.227702",
     "status": "completed"
    },
    "tags": []
   },
   "outputs": [
    {
     "name": "stdout",
     "output_type": "stream",
     "text": [
      "Recommendation for Tropico 5 \n",
      "\n",
      "Recommendations using game name, developer, genre and tags \n",
      "\n",
      "1010                         Tropico 4\n",
      "2007                         Tropico 5\n",
      "528                   Grand Ages: Rome\n",
      "526      Imperium Romanum Gold Edition\n",
      "11086                        Caesar™ 3\n",
      "13365                      Constructor\n",
      "1416        Omerta - City of Gangsters\n",
      "5224                      Urban Empire\n",
      "9352                    Surviving Mars\n",
      "12795              Pharaoh + Cleopatra\n",
      "Name: name, dtype: object \n",
      "\n",
      "Recommendations using game name, developer, genre, tags and description \n",
      "\n",
      "None\n",
      "1010                         Tropico 4\n",
      "530                          Tropico 3\n",
      "528                   Grand Ages: Rome\n",
      "526      Imperium Romanum Gold Edition\n",
      "11086                        Caesar™ 3\n",
      "677                   Tropico Reloaded\n",
      "9352                    Surviving Mars\n",
      "5224                      Urban Empire\n",
      "12795              Pharaoh + Cleopatra\n",
      "1416        Omerta - City of Gangsters\n",
      "Name: name, dtype: object\n"
     ]
    }
   ],
   "source": [
    "# Example 3\n",
    "naz = \"Tropico 5\"\n",
    "print('Recommendation for', naz, '\\n')\n",
    "print('Recommendations using game name, developer, genre and tags \\n')\n",
    "print(get_rec(naz, cosine_sim),'\\n')\n",
    "print(print('Recommendations using game name, developer, genre, tags and description \\n'))\n",
    "print(get_rec(naz, cosine_sim2))"
   ]
  },
  {
   "cell_type": "code",
   "execution_count": 20,
   "id": "b8e2a913",
   "metadata": {
    "execution": {
     "iopub.execute_input": "2023-04-16T06:24:12.302285Z",
     "iopub.status.busy": "2023-04-16T06:24:12.301893Z",
     "iopub.status.idle": "2023-04-16T06:24:12.317807Z",
     "shell.execute_reply": "2023-04-16T06:24:12.316464Z"
    },
    "papermill": {
     "duration": 0.028196,
     "end_time": "2023-04-16T06:24:12.319871",
     "exception": false,
     "start_time": "2023-04-16T06:24:12.291675",
     "status": "completed"
    },
    "tags": []
   },
   "outputs": [],
   "source": [
    "united_df['alls'] = united_df['alls'] + \" \" + united_df['short_description']"
   ]
  },
  {
   "cell_type": "code",
   "execution_count": 21,
   "id": "9dae5660",
   "metadata": {
    "execution": {
     "iopub.execute_input": "2023-04-16T06:24:12.339301Z",
     "iopub.status.busy": "2023-04-16T06:24:12.338897Z",
     "iopub.status.idle": "2023-04-16T06:24:12.348048Z",
     "shell.execute_reply": "2023-04-16T06:24:12.346627Z"
    },
    "papermill": {
     "duration": 0.021991,
     "end_time": "2023-04-16T06:24:12.350754",
     "exception": false,
     "start_time": "2023-04-16T06:24:12.328763",
     "status": "completed"
    },
    "tags": []
   },
   "outputs": [
    {
     "data": {
      "text/plain": [
       "'counter-strike valve action fps multiplayer play world number online action game engage incredibly realistic brand terrorist warfare wildly popular team based game ally teammate complete strategic mission take enemy site rescue hostage role affect team success team success affect role'"
      ]
     },
     "execution_count": 21,
     "metadata": {},
     "output_type": "execute_result"
    }
   ],
   "source": [
    "united_df['alls'][0]"
   ]
  },
  {
   "cell_type": "code",
   "execution_count": 22,
   "id": "30c2f5e2",
   "metadata": {
    "execution": {
     "iopub.execute_input": "2023-04-16T06:24:12.370267Z",
     "iopub.status.busy": "2023-04-16T06:24:12.369890Z",
     "iopub.status.idle": "2023-04-16T06:24:12.377827Z",
     "shell.execute_reply": "2023-04-16T06:24:12.376127Z"
    },
    "papermill": {
     "duration": 0.020882,
     "end_time": "2023-04-16T06:24:12.380565",
     "exception": false,
     "start_time": "2023-04-16T06:24:12.359683",
     "status": "completed"
    },
    "tags": []
   },
   "outputs": [
    {
     "data": {
      "text/plain": [
       "'play world number online action game engage incredibly realistic brand terrorist warfare wildly popular team based game ally teammate complete strategic mission take enemy site rescue hostage role affect team success team success affect role'"
      ]
     },
     "execution_count": 22,
     "metadata": {},
     "output_type": "execute_result"
    }
   ],
   "source": [
    "united_df['short_description'][0]"
   ]
  },
  {
   "cell_type": "code",
   "execution_count": 23,
   "id": "bfbd29a7",
   "metadata": {
    "execution": {
     "iopub.execute_input": "2023-04-16T06:24:12.400876Z",
     "iopub.status.busy": "2023-04-16T06:24:12.400472Z",
     "iopub.status.idle": "2023-04-16T06:24:12.462800Z",
     "shell.execute_reply": "2023-04-16T06:24:12.461367Z"
    },
    "papermill": {
     "duration": 0.07559,
     "end_time": "2023-04-16T06:24:12.465558",
     "exception": false,
     "start_time": "2023-04-16T06:24:12.389968",
     "status": "completed"
    },
    "tags": []
   },
   "outputs": [],
   "source": [
    "corpus = []\n",
    "for words in united_df['short_description']:\n",
    "    corpus.append(words.split())"
   ]
  },
  {
   "cell_type": "code",
   "execution_count": 24,
   "id": "b69ee471",
   "metadata": {
    "execution": {
     "iopub.execute_input": "2023-04-16T06:24:12.484161Z",
     "iopub.status.busy": "2023-04-16T06:24:12.483782Z",
     "iopub.status.idle": "2023-04-16T06:24:12.720221Z",
     "shell.execute_reply": "2023-04-16T06:24:12.718663Z"
    },
    "papermill": {
     "duration": 0.24885,
     "end_time": "2023-04-16T06:24:12.723013",
     "exception": false,
     "start_time": "2023-04-16T06:24:12.474163",
     "status": "completed"
    },
    "tags": []
   },
   "outputs": [],
   "source": [
    "from gensim.models import Word2Vec"
   ]
  },
  {
   "cell_type": "code",
   "execution_count": 25,
   "id": "acae5396",
   "metadata": {
    "execution": {
     "iopub.execute_input": "2023-04-16T06:24:12.742865Z",
     "iopub.status.busy": "2023-04-16T06:24:12.742519Z",
     "iopub.status.idle": "2023-04-16T06:24:13.389353Z",
     "shell.execute_reply": "2023-04-16T06:24:13.387188Z"
    },
    "papermill": {
     "duration": 0.660232,
     "end_time": "2023-04-16T06:24:13.392332",
     "exception": false,
     "start_time": "2023-04-16T06:24:12.732100",
     "status": "completed"
    },
    "tags": []
   },
   "outputs": [
    {
     "data": {
      "text/plain": [
       "(0, 0)"
      ]
     },
     "execution_count": 25,
     "metadata": {},
     "output_type": "execute_result"
    }
   ],
   "source": [
    "# EMBEDDING_FILE = \"/kaggle/input/googlenewsvectorsnegative300/GoogleNews-vectors-negative300.bin\"\n",
    "# google_word2vec = KeyedVectors.load_word2vec_format(EMBEDDING_FILE, binary=True)\n",
    "\n",
    "google_model = Word2Vec(vector_size = 300, window=5, min_count = 2, workers = -1)\n",
    "google_model.build_vocab(corpus)\n",
    "\n",
    "# google_model.wv.intersect_word2vec_format(EMBEDDING_FILE, lockf=1, binary=True)\n",
    "\n",
    "google_model.train(corpus, total_examples=google_model.corpus_count, epochs = 5)"
   ]
  },
  {
   "cell_type": "code",
   "execution_count": 26,
   "id": "567f5a38",
   "metadata": {
    "execution": {
     "iopub.execute_input": "2023-04-16T06:24:13.412113Z",
     "iopub.status.busy": "2023-04-16T06:24:13.411473Z",
     "iopub.status.idle": "2023-04-16T06:24:15.855745Z",
     "shell.execute_reply": "2023-04-16T06:24:15.854548Z"
    },
    "papermill": {
     "duration": 2.456846,
     "end_time": "2023-04-16T06:24:15.858194",
     "exception": false,
     "start_time": "2023-04-16T06:24:13.401348",
     "status": "completed"
    },
    "tags": []
   },
   "outputs": [],
   "source": [
    "tfidf = TfidfVectorizer(analyzer='word', ngram_range=(1, 3), min_df = 5, stop_words='english')\n",
    "tfidf.fit(united_df['short_description'])\n",
    "\n",
    "tfidf_list = dict(zip(tfidf.get_feature_names_out(), list(tfidf.idf_)))\n",
    "tfidf_feature = tfidf.get_feature_names_out()"
   ]
  },
  {
   "cell_type": "code",
   "execution_count": 27,
   "id": "e2860913",
   "metadata": {
    "execution": {
     "iopub.execute_input": "2023-04-16T06:24:15.877670Z",
     "iopub.status.busy": "2023-04-16T06:24:15.877314Z",
     "iopub.status.idle": "2023-04-16T06:24:15.882541Z",
     "shell.execute_reply": "2023-04-16T06:24:15.881224Z"
    },
    "papermill": {
     "duration": 0.01745,
     "end_time": "2023-04-16T06:24:15.884507",
     "exception": false,
     "start_time": "2023-04-16T06:24:15.867057",
     "status": "completed"
    },
    "tags": []
   },
   "outputs": [],
   "source": [
    "from tqdm import tqdm"
   ]
  },
  {
   "cell_type": "code",
   "execution_count": 28,
   "id": "d60517bd",
   "metadata": {
    "execution": {
     "iopub.execute_input": "2023-04-16T06:24:15.904228Z",
     "iopub.status.busy": "2023-04-16T06:24:15.903817Z",
     "iopub.status.idle": "2023-04-16T06:28:10.989240Z",
     "shell.execute_reply": "2023-04-16T06:28:10.987550Z"
    },
    "papermill": {
     "duration": 235.098726,
     "end_time": "2023-04-16T06:28:10.992103",
     "exception": false,
     "start_time": "2023-04-16T06:24:15.893377",
     "status": "completed"
    },
    "tags": []
   },
   "outputs": [
    {
     "name": "stderr",
     "output_type": "stream",
     "text": [
      "100%|██████████| 27798/27798 [03:55<00:00, 118.25it/s]\n"
     ]
    }
   ],
   "source": [
    "tfidf_vectors = []; \n",
    "line = 0;\n",
    "for desc in tqdm(corpus): \n",
    "    sent_vec = np.zeros(300) \n",
    "    weight_sum =0; \n",
    "    for word in desc: \n",
    "        if word in google_model.wv.key_to_index and word in tfidf_feature:\n",
    "            vec = google_model.wv[word]\n",
    "            tf_idf = tfidf_list[word] * (desc.count(word) / len(desc))\n",
    "            sent_vec += (vec * tf_idf)\n",
    "            weight_sum += tf_idf\n",
    "    if weight_sum != 0:\n",
    "        sent_vec /= weight_sum\n",
    "    tfidf_vectors.append(sent_vec)\n",
    "    line += 1"
   ]
  },
  {
   "cell_type": "code",
   "execution_count": 29,
   "id": "51f97b22",
   "metadata": {
    "execution": {
     "iopub.execute_input": "2023-04-16T06:28:11.242915Z",
     "iopub.status.busy": "2023-04-16T06:28:11.242035Z",
     "iopub.status.idle": "2023-04-16T06:28:17.173011Z",
     "shell.execute_reply": "2023-04-16T06:28:17.172130Z"
    },
    "papermill": {
     "duration": 6.059032,
     "end_time": "2023-04-16T06:28:17.175514",
     "exception": false,
     "start_time": "2023-04-16T06:28:11.116482",
     "status": "completed"
    },
    "tags": []
   },
   "outputs": [],
   "source": [
    "cosine_similarities = cosine_similarity(tfidf_vectors,  tfidf_vectors)"
   ]
  },
  {
   "cell_type": "code",
   "execution_count": 30,
   "id": "a314a954",
   "metadata": {
    "execution": {
     "iopub.execute_input": "2023-04-16T06:28:17.456368Z",
     "iopub.status.busy": "2023-04-16T06:28:17.455965Z",
     "iopub.status.idle": "2023-04-16T06:28:17.488537Z",
     "shell.execute_reply": "2023-04-16T06:28:17.487417Z"
    },
    "papermill": {
     "duration": 0.164239,
     "end_time": "2023-04-16T06:28:17.490768",
     "exception": false,
     "start_time": "2023-04-16T06:28:17.326529",
     "status": "completed"
    },
    "tags": []
   },
   "outputs": [
    {
     "name": "stdout",
     "output_type": "stream",
     "text": [
      "Recommendation for Counter-Strike \n",
      "\n",
      "Recommendations using game name, developer, genre and tags \n",
      "\n",
      "14937                                    RUGBY 18\n",
      "15099           NARUTO TO BORUTO: SHINOBI STRIKER\n",
      "17649                                      Astroe\n",
      "23705                 Pro Basketball Manager 2019\n",
      "23477                               Under The War\n",
      "13530                              Operation swat\n",
      "12048                 Pro Basketball Manager 2017\n",
      "15863                                  Jammerball\n",
      "9519                                  Legion TD 2\n",
      "10461    Airport Fire Department - The Simulation\n",
      "Name: name, dtype: object \n",
      "\n"
     ]
    }
   ],
   "source": [
    "naz = \"Counter-Strike\"\n",
    "print('Recommendation for', naz, '\\n')\n",
    "print('Recommendations using game name, developer, genre and tags \\n')\n",
    "print(get_rec(naz, cosine_similarities),'\\n')"
   ]
  },
  {
   "cell_type": "code",
   "execution_count": 31,
   "id": "4c4da2cb",
   "metadata": {
    "execution": {
     "iopub.execute_input": "2023-04-16T06:28:17.741884Z",
     "iopub.status.busy": "2023-04-16T06:28:17.741486Z",
     "iopub.status.idle": "2023-04-16T06:28:17.773066Z",
     "shell.execute_reply": "2023-04-16T06:28:17.771898Z"
    },
    "papermill": {
     "duration": 0.158919,
     "end_time": "2023-04-16T06:28:17.775449",
     "exception": false,
     "start_time": "2023-04-16T06:28:17.616530",
     "status": "completed"
    },
    "tags": []
   },
   "outputs": [
    {
     "name": "stdout",
     "output_type": "stream",
     "text": [
      "Recommendation for Counter-Strike \n",
      "\n",
      "Recommendations using game name, developer, genre and tags \n",
      "\n",
      "14937                                    RUGBY 18\n",
      "15099           NARUTO TO BORUTO: SHINOBI STRIKER\n",
      "17649                                      Astroe\n",
      "23705                 Pro Basketball Manager 2019\n",
      "23477                               Under The War\n",
      "13530                              Operation swat\n",
      "12048                 Pro Basketball Manager 2017\n",
      "15863                                  Jammerball\n",
      "9519                                  Legion TD 2\n",
      "10461    Airport Fire Department - The Simulation\n",
      "Name: name, dtype: object \n",
      "\n"
     ]
    }
   ],
   "source": [
    "naz = \"Counter-Strike\"\n",
    "print('Recommendation for', naz, '\\n')\n",
    "print('Recommendations using game name, developer, genre and tags \\n')\n",
    "print(get_rec(naz, cosine_similarities),'\\n')"
   ]
  },
  {
   "cell_type": "code",
   "execution_count": 32,
   "id": "3fed6cb1",
   "metadata": {
    "execution": {
     "iopub.execute_input": "2023-04-16T06:28:18.025893Z",
     "iopub.status.busy": "2023-04-16T06:28:18.025223Z",
     "iopub.status.idle": "2023-04-16T06:28:18.055839Z",
     "shell.execute_reply": "2023-04-16T06:28:18.054679Z"
    },
    "papermill": {
     "duration": 0.15808,
     "end_time": "2023-04-16T06:28:18.057728",
     "exception": false,
     "start_time": "2023-04-16T06:28:17.899648",
     "status": "completed"
    },
    "tags": []
   },
   "outputs": [
    {
     "name": "stdout",
     "output_type": "stream",
     "text": [
      "Recommendation for Tropico 5 \n",
      "\n",
      "Recommendations using game name, developer, genre and tags \n",
      "\n",
      "20053                           Citystate\n",
      "2309                    Tales of Maj'Eyal\n",
      "5465          Rise of the Triad: Dark War\n",
      "18231                          Smart Cube\n",
      "909            Reign: Conflict of Nations\n",
      "12216                      Counter Agents\n",
      "3668            The Nightmare Cooperative\n",
      "1159     Steel Storm: Burning Retribution\n",
      "20598                       AstroBlast VR\n",
      "23325                   The Darkest Woods\n",
      "Name: name, dtype: object \n",
      "\n"
     ]
    }
   ],
   "source": [
    "naz = \"Tropico 5\"\n",
    "print('Recommendation for', naz, '\\n')\n",
    "print('Recommendations using game name, developer, genre and tags \\n')\n",
    "print(get_rec(naz, cosine_similarities),'\\n')"
   ]
  },
  {
   "cell_type": "code",
   "execution_count": null,
   "id": "71b3203a",
   "metadata": {
    "papermill": {
     "duration": 0.125869,
     "end_time": "2023-04-16T06:28:18.369746",
     "exception": false,
     "start_time": "2023-04-16T06:28:18.243877",
     "status": "completed"
    },
    "tags": []
   },
   "outputs": [],
   "source": []
  }
 ],
 "metadata": {
  "kernelspec": {
   "display_name": "Python 3",
   "language": "python",
   "name": "python3"
  },
  "language_info": {
   "codemirror_mode": {
    "name": "ipython",
    "version": 3
   },
   "file_extension": ".py",
   "mimetype": "text/x-python",
   "name": "python",
   "nbconvert_exporter": "python",
   "pygments_lexer": "ipython3",
   "version": "3.7.12"
  },
  "papermill": {
   "default_parameters": {},
   "duration": 305.364226,
   "end_time": "2023-04-16T06:28:20.220604",
   "environment_variables": {},
   "exception": null,
   "input_path": "__notebook__.ipynb",
   "output_path": "__notebook__.ipynb",
   "parameters": {},
   "start_time": "2023-04-16T06:23:14.856378",
   "version": "2.4.0"
  }
 },
 "nbformat": 4,
 "nbformat_minor": 5
}
