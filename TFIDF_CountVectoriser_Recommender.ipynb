{
 "cells": [
  {
   "cell_type": "code",
   "execution_count": 1,
   "id": "8b2b619d",
   "metadata": {
    "execution": {
     "iopub.execute_input": "2023-04-24T14:26:14.116818Z",
     "iopub.status.busy": "2023-04-24T14:26:14.116239Z",
     "iopub.status.idle": "2023-04-24T14:26:15.416338Z",
     "shell.execute_reply": "2023-04-24T14:26:15.414987Z"
    },
    "papermill": {
     "duration": 1.316861,
     "end_time": "2023-04-24T14:26:15.419582",
     "exception": false,
     "start_time": "2023-04-24T14:26:14.102721",
     "status": "completed"
    },
    "tags": []
   },
   "outputs": [],
   "source": [
    "import pandas as pd\n",
    "import numpy as np\n",
    "\n",
    "from sklearn.feature_extraction.text import CountVectorizer\n",
    "from sklearn.metrics.pairwise import cosine_similarity\n",
    "from sklearn.feature_extraction.text import TfidfVectorizer\n",
    "\n",
    "from scipy.sparse import hstack\n",
    "\n",
    "\n",
    "pd.options.mode.chained_assignment = None  # default='warn'"
   ]
  },
  {
   "cell_type": "code",
   "execution_count": 2,
   "id": "bbd1b888",
   "metadata": {
    "execution": {
     "iopub.execute_input": "2023-04-24T14:26:15.441933Z",
     "iopub.status.busy": "2023-04-24T14:26:15.441479Z",
     "iopub.status.idle": "2023-04-24T14:26:15.457818Z",
     "shell.execute_reply": "2023-04-24T14:26:15.456482Z"
    },
    "papermill": {
     "duration": 0.031244,
     "end_time": "2023-04-24T14:26:15.460695",
     "exception": false,
     "start_time": "2023-04-24T14:26:15.429451",
     "status": "completed"
    },
    "tags": []
   },
   "outputs": [],
   "source": [
    "def reduce_mem_usage(df):\n",
    "    \"\"\" iterate through all the columns of a dataframe and modify the data type\n",
    "        to reduce memory usage.        \n",
    "    \"\"\"\n",
    "    start_mem = df.memory_usage().sum() / 1024**2\n",
    "    print('Memory usage of dataframe is {:.2f} MB'.format(start_mem))\n",
    "    \n",
    "    for col in df.columns:\n",
    "        col_type = df[col].dtype\n",
    "        \n",
    "        if col_type != object:\n",
    "            c_min = df[col].min()\n",
    "            c_max = df[col].max()\n",
    "            if str(col_type)[:3] == 'int':\n",
    "                if c_min > np.iinfo(np.int8).min and c_max < np.iinfo(np.int8).max:\n",
    "                    df[col] = df[col].astype(np.int8)\n",
    "                elif c_min > np.iinfo(np.int16).min and c_max < np.iinfo(np.int16).max:\n",
    "                    df[col] = df[col].astype(np.int16)\n",
    "                elif c_min > np.iinfo(np.int32).min and c_max < np.iinfo(np.int32).max:\n",
    "                    df[col] = df[col].astype(np.int32)\n",
    "                elif c_min > np.iinfo(np.int64).min and c_max < np.iinfo(np.int64).max:\n",
    "                    df[col] = df[col].astype(np.int64)  \n",
    "            else:\n",
    "                if c_min > np.finfo(np.float16).min and c_max < np.finfo(np.float16).max:\n",
    "                    df[col] = df[col].astype(np.float16)\n",
    "                elif c_min > np.finfo(np.float32).min and c_max < np.finfo(np.float32).max:\n",
    "                    df[col] = df[col].astype(np.float32)\n",
    "                else:\n",
    "                    df[col] = df[col].astype(np.float64)\n",
    "        else:\n",
    "            df[col] = df[col].astype('category')\n",
    "\n",
    "    end_mem = df.memory_usage().sum() / 1024**2\n",
    "    print('Memory usage after optimization is: {:.2f} MB'.format(end_mem))\n",
    "    print('Decreased by {:.1f}%'.format(100 * (start_mem - end_mem) / start_mem))\n",
    "    \n",
    "    return df\n",
    "\n",
    "\n",
    "def import_data(file):\n",
    "    \"\"\"create a dataframe and optimize its memory usage\"\"\"\n",
    "    df = pd.read_csv(file, parse_dates=True, keep_date_col=True)\n",
    "    df = reduce_mem_usage(df)\n",
    "    return df"
   ]
  },
  {
   "cell_type": "code",
   "execution_count": 3,
   "id": "657e404b",
   "metadata": {
    "execution": {
     "iopub.execute_input": "2023-04-24T14:26:15.481503Z",
     "iopub.status.busy": "2023-04-24T14:26:15.480631Z",
     "iopub.status.idle": "2023-04-24T14:26:17.291330Z",
     "shell.execute_reply": "2023-04-24T14:26:17.289868Z"
    },
    "papermill": {
     "duration": 1.824619,
     "end_time": "2023-04-24T14:26:17.294701",
     "exception": false,
     "start_time": "2023-04-24T14:26:15.470082",
     "status": "completed"
    },
    "tags": []
   },
   "outputs": [],
   "source": [
    "# Importing the files you want\n",
    "united_df = pd.read_csv('/kaggle/input/rs-final/clean_data.csv')\n",
    "# united_df = import_data('/kaggle/input/rs-final/clean_data.csv')"
   ]
  },
  {
   "cell_type": "code",
   "execution_count": 4,
   "id": "3b2a8ce7",
   "metadata": {
    "execution": {
     "iopub.execute_input": "2023-04-24T14:26:17.316378Z",
     "iopub.status.busy": "2023-04-24T14:26:17.315563Z",
     "iopub.status.idle": "2023-04-24T14:26:17.355150Z",
     "shell.execute_reply": "2023-04-24T14:26:17.353916Z"
    },
    "papermill": {
     "duration": 0.053519,
     "end_time": "2023-04-24T14:26:17.357923",
     "exception": false,
     "start_time": "2023-04-24T14:26:17.304404",
     "status": "completed"
    },
    "tags": []
   },
   "outputs": [
    {
     "data": {
      "text/html": [
       "<div>\n",
       "<style scoped>\n",
       "    .dataframe tbody tr th:only-of-type {\n",
       "        vertical-align: middle;\n",
       "    }\n",
       "\n",
       "    .dataframe tbody tr th {\n",
       "        vertical-align: top;\n",
       "    }\n",
       "\n",
       "    .dataframe thead th {\n",
       "        text-align: right;\n",
       "    }\n",
       "</style>\n",
       "<table border=\"1\" class=\"dataframe\">\n",
       "  <thead>\n",
       "    <tr style=\"text-align: right;\">\n",
       "      <th></th>\n",
       "      <th>name</th>\n",
       "      <th>steam_appid</th>\n",
       "      <th>required_age</th>\n",
       "      <th>is_free</th>\n",
       "      <th>about_the_game</th>\n",
       "      <th>short_description</th>\n",
       "      <th>developers</th>\n",
       "      <th>platforms</th>\n",
       "      <th>release_date</th>\n",
       "      <th>positive</th>\n",
       "      <th>negative</th>\n",
       "      <th>owners</th>\n",
       "      <th>average_forever</th>\n",
       "      <th>median_forever</th>\n",
       "      <th>languages</th>\n",
       "      <th>tags</th>\n",
       "    </tr>\n",
       "  </thead>\n",
       "  <tbody>\n",
       "    <tr>\n",
       "      <th>0</th>\n",
       "      <td>Counter-Strike</td>\n",
       "      <td>10</td>\n",
       "      <td>0.0</td>\n",
       "      <td>False</td>\n",
       "      <td>Play the world's number 1 online action game. ...</td>\n",
       "      <td>Play the world's number 1 online action game. ...</td>\n",
       "      <td>['Valve']</td>\n",
       "      <td>{'windows': True, 'mac': True, 'linux': True}</td>\n",
       "      <td>{'coming_soon': False, 'date': '1 Nov, 2000'}</td>\n",
       "      <td>124534</td>\n",
       "      <td>3339</td>\n",
       "      <td>10000000-20000000</td>\n",
       "      <td>17612</td>\n",
       "      <td>317</td>\n",
       "      <td>English, French, German, Italian, Spanish - Sp...</td>\n",
       "      <td>Action;FPS;Multiplayer</td>\n",
       "    </tr>\n",
       "    <tr>\n",
       "      <th>1</th>\n",
       "      <td>Team Fortress Classic</td>\n",
       "      <td>20</td>\n",
       "      <td>0.0</td>\n",
       "      <td>False</td>\n",
       "      <td>One of the most popular online action games of...</td>\n",
       "      <td>One of the most popular online action games of...</td>\n",
       "      <td>['Valve']</td>\n",
       "      <td>{'windows': True, 'mac': True, 'linux': True}</td>\n",
       "      <td>{'coming_soon': False, 'date': '1 Apr, 1999'}</td>\n",
       "      <td>3318</td>\n",
       "      <td>633</td>\n",
       "      <td>5000000-10000000</td>\n",
       "      <td>277</td>\n",
       "      <td>62</td>\n",
       "      <td>English, French, German, Italian, Spanish - Sp...</td>\n",
       "      <td>Action;FPS;Multiplayer</td>\n",
       "    </tr>\n",
       "    <tr>\n",
       "      <th>2</th>\n",
       "      <td>Day of Defeat</td>\n",
       "      <td>30</td>\n",
       "      <td>0.0</td>\n",
       "      <td>False</td>\n",
       "      <td>Enlist in an intense brand of Axis vs. Allied ...</td>\n",
       "      <td>Enlist in an intense brand of Axis vs. Allied ...</td>\n",
       "      <td>['Valve']</td>\n",
       "      <td>{'windows': True, 'mac': True, 'linux': True}</td>\n",
       "      <td>{'coming_soon': False, 'date': '1 May, 2003'}</td>\n",
       "      <td>3416</td>\n",
       "      <td>398</td>\n",
       "      <td>5000000-10000000</td>\n",
       "      <td>187</td>\n",
       "      <td>34</td>\n",
       "      <td>English, French, German, Italian, Spanish - Spain</td>\n",
       "      <td>FPS;World War II;Multiplayer</td>\n",
       "    </tr>\n",
       "    <tr>\n",
       "      <th>3</th>\n",
       "      <td>Deathmatch Classic</td>\n",
       "      <td>40</td>\n",
       "      <td>0.0</td>\n",
       "      <td>False</td>\n",
       "      <td>Enjoy fast-paced multiplayer gaming with Death...</td>\n",
       "      <td>Enjoy fast-paced multiplayer gaming with Death...</td>\n",
       "      <td>['Valve']</td>\n",
       "      <td>{'windows': True, 'mac': True, 'linux': True}</td>\n",
       "      <td>{'coming_soon': False, 'date': '1 Jun, 2001'}</td>\n",
       "      <td>1273</td>\n",
       "      <td>267</td>\n",
       "      <td>5000000-10000000</td>\n",
       "      <td>258</td>\n",
       "      <td>184</td>\n",
       "      <td>English, French, German, Italian, Spanish - Sp...</td>\n",
       "      <td>Action;FPS;Multiplayer</td>\n",
       "    </tr>\n",
       "    <tr>\n",
       "      <th>4</th>\n",
       "      <td>Half-Life: Opposing Force</td>\n",
       "      <td>50</td>\n",
       "      <td>0.0</td>\n",
       "      <td>False</td>\n",
       "      <td>Return to the Black Mesa Research Facility as ...</td>\n",
       "      <td>Return to the Black Mesa Research Facility as ...</td>\n",
       "      <td>['Gearbox Software']</td>\n",
       "      <td>{'windows': True, 'mac': True, 'linux': True}</td>\n",
       "      <td>{'coming_soon': False, 'date': '1 Nov, 1999'}</td>\n",
       "      <td>5250</td>\n",
       "      <td>288</td>\n",
       "      <td>5000000-10000000</td>\n",
       "      <td>624</td>\n",
       "      <td>415</td>\n",
       "      <td>English, French, German, Korean</td>\n",
       "      <td>FPS;Action;Sci-fi</td>\n",
       "    </tr>\n",
       "  </tbody>\n",
       "</table>\n",
       "</div>"
      ],
      "text/plain": [
       "                        name  steam_appid  required_age  is_free  \\\n",
       "0             Counter-Strike           10           0.0    False   \n",
       "1      Team Fortress Classic           20           0.0    False   \n",
       "2              Day of Defeat           30           0.0    False   \n",
       "3         Deathmatch Classic           40           0.0    False   \n",
       "4  Half-Life: Opposing Force           50           0.0    False   \n",
       "\n",
       "                                      about_the_game  \\\n",
       "0  Play the world's number 1 online action game. ...   \n",
       "1  One of the most popular online action games of...   \n",
       "2  Enlist in an intense brand of Axis vs. Allied ...   \n",
       "3  Enjoy fast-paced multiplayer gaming with Death...   \n",
       "4  Return to the Black Mesa Research Facility as ...   \n",
       "\n",
       "                                   short_description            developers  \\\n",
       "0  Play the world's number 1 online action game. ...             ['Valve']   \n",
       "1  One of the most popular online action games of...             ['Valve']   \n",
       "2  Enlist in an intense brand of Axis vs. Allied ...             ['Valve']   \n",
       "3  Enjoy fast-paced multiplayer gaming with Death...             ['Valve']   \n",
       "4  Return to the Black Mesa Research Facility as ...  ['Gearbox Software']   \n",
       "\n",
       "                                       platforms  \\\n",
       "0  {'windows': True, 'mac': True, 'linux': True}   \n",
       "1  {'windows': True, 'mac': True, 'linux': True}   \n",
       "2  {'windows': True, 'mac': True, 'linux': True}   \n",
       "3  {'windows': True, 'mac': True, 'linux': True}   \n",
       "4  {'windows': True, 'mac': True, 'linux': True}   \n",
       "\n",
       "                                    release_date  positive  negative  \\\n",
       "0  {'coming_soon': False, 'date': '1 Nov, 2000'}    124534      3339   \n",
       "1  {'coming_soon': False, 'date': '1 Apr, 1999'}      3318       633   \n",
       "2  {'coming_soon': False, 'date': '1 May, 2003'}      3416       398   \n",
       "3  {'coming_soon': False, 'date': '1 Jun, 2001'}      1273       267   \n",
       "4  {'coming_soon': False, 'date': '1 Nov, 1999'}      5250       288   \n",
       "\n",
       "              owners  average_forever  median_forever  \\\n",
       "0  10000000-20000000            17612             317   \n",
       "1   5000000-10000000              277              62   \n",
       "2   5000000-10000000              187              34   \n",
       "3   5000000-10000000              258             184   \n",
       "4   5000000-10000000              624             415   \n",
       "\n",
       "                                           languages  \\\n",
       "0  English, French, German, Italian, Spanish - Sp...   \n",
       "1  English, French, German, Italian, Spanish - Sp...   \n",
       "2  English, French, German, Italian, Spanish - Spain   \n",
       "3  English, French, German, Italian, Spanish - Sp...   \n",
       "4                    English, French, German, Korean   \n",
       "\n",
       "                           tags  \n",
       "0        Action;FPS;Multiplayer  \n",
       "1        Action;FPS;Multiplayer  \n",
       "2  FPS;World War II;Multiplayer  \n",
       "3        Action;FPS;Multiplayer  \n",
       "4             FPS;Action;Sci-fi  "
      ]
     },
     "execution_count": 4,
     "metadata": {},
     "output_type": "execute_result"
    }
   ],
   "source": [
    "united_df.head()"
   ]
  },
  {
   "cell_type": "code",
   "execution_count": 5,
   "id": "1986ce3e",
   "metadata": {
    "execution": {
     "iopub.execute_input": "2023-04-24T14:26:17.379558Z",
     "iopub.status.busy": "2023-04-24T14:26:17.379165Z",
     "iopub.status.idle": "2023-04-24T14:26:17.385515Z",
     "shell.execute_reply": "2023-04-24T14:26:17.384320Z"
    },
    "papermill": {
     "duration": 0.0205,
     "end_time": "2023-04-24T14:26:17.388336",
     "exception": false,
     "start_time": "2023-04-24T14:26:17.367836",
     "status": "completed"
    },
    "tags": []
   },
   "outputs": [],
   "source": [
    "# Separating tags with a space\n",
    "def globalization(strok:str):\n",
    "    return strok.replace(';', ' ')\n",
    "\n",
    "# Removing duplicate tags\n",
    "def del_rep(strok:str):\n",
    "    spl_strok = strok.split()\n",
    "    return ' '.join(sorted(set(spl_strok), key=spl_strok.index))\n",
    "\n",
    "# Converting to lower case\n",
    "def to_low(strok:str):\n",
    "    return strok.lower()"
   ]
  },
  {
   "cell_type": "code",
   "execution_count": 6,
   "id": "753241b5",
   "metadata": {
    "execution": {
     "iopub.execute_input": "2023-04-24T14:26:17.410242Z",
     "iopub.status.busy": "2023-04-24T14:26:17.409478Z",
     "iopub.status.idle": "2023-04-24T14:26:17.430945Z",
     "shell.execute_reply": "2023-04-24T14:26:17.429727Z"
    },
    "papermill": {
     "duration": 0.035534,
     "end_time": "2023-04-24T14:26:17.433973",
     "exception": false,
     "start_time": "2023-04-24T14:26:17.398439",
     "status": "completed"
    },
    "tags": []
   },
   "outputs": [],
   "source": [
    "united_df.developers = united_df.developers.str[2:-2]"
   ]
  },
  {
   "cell_type": "code",
   "execution_count": 7,
   "id": "e389c7fa",
   "metadata": {
    "execution": {
     "iopub.execute_input": "2023-04-24T14:26:17.456746Z",
     "iopub.status.busy": "2023-04-24T14:26:17.456287Z",
     "iopub.status.idle": "2023-04-24T14:26:17.577916Z",
     "shell.execute_reply": "2023-04-24T14:26:17.576582Z"
    },
    "papermill": {
     "duration": 0.135706,
     "end_time": "2023-04-24T14:26:17.580881",
     "exception": false,
     "start_time": "2023-04-24T14:26:17.445175",
     "status": "completed"
    },
    "tags": []
   },
   "outputs": [],
   "source": [
    "# Separating tags with a space\n",
    "united_df['tags'] = united_df['tags'].apply(globalization)\n",
    "united_df['tags'] = united_df['tags'].apply(del_rep)\n",
    "\n",
    "# Convert strings to lowercase and concatenate into one column\n",
    "cols = ['developers', 'tags']\n",
    "\n",
    "united_df['alls'] = united_df['name'].copy().apply(to_low)\n",
    "\n",
    "for i in cols:\n",
    "  united_df['alls'] += ' ' + united_df[i].apply(to_low)"
   ]
  },
  {
   "cell_type": "code",
   "execution_count": 8,
   "id": "cd74c175",
   "metadata": {
    "execution": {
     "iopub.execute_input": "2023-04-24T14:26:17.603042Z",
     "iopub.status.busy": "2023-04-24T14:26:17.602045Z",
     "iopub.status.idle": "2023-04-24T14:26:17.611991Z",
     "shell.execute_reply": "2023-04-24T14:26:17.610802Z"
    },
    "papermill": {
     "duration": 0.023804,
     "end_time": "2023-04-24T14:26:17.614609",
     "exception": false,
     "start_time": "2023-04-24T14:26:17.590805",
     "status": "completed"
    },
    "tags": []
   },
   "outputs": [
    {
     "data": {
      "text/plain": [
       "0              counter-strike valve action fps multiplayer\n",
       "1        team fortress classic valve action fps multipl...\n",
       "2         day of defeat valve fps world war ii multiplayer\n",
       "3          deathmatch classic valve action fps multiplayer\n",
       "4        half-life: opposing force gearbox software fps...\n",
       "                               ...                        \n",
       "27793    room of pandora shen jiawei adventure indie ca...\n",
       "27794      cyber gun semyon maximov action indie adventure\n",
       "27795     super star blast entwicklerx action indie casual\n",
       "27796    new yankee 7: deer hunters yustas game studio ...\n",
       "27797    rune lord adept studios gd indie casual adventure\n",
       "Name: alls, Length: 27798, dtype: object"
      ]
     },
     "execution_count": 8,
     "metadata": {},
     "output_type": "execute_result"
    }
   ],
   "source": [
    "# How it looks\n",
    "united_df['alls']"
   ]
  },
  {
   "cell_type": "code",
   "execution_count": 9,
   "id": "113b8f32",
   "metadata": {
    "execution": {
     "iopub.execute_input": "2023-04-24T14:26:17.637009Z",
     "iopub.status.busy": "2023-04-24T14:26:17.636539Z",
     "iopub.status.idle": "2023-04-24T14:26:17.647282Z",
     "shell.execute_reply": "2023-04-24T14:26:17.646025Z"
    },
    "papermill": {
     "duration": 0.025264,
     "end_time": "2023-04-24T14:26:17.649888",
     "exception": false,
     "start_time": "2023-04-24T14:26:17.624624",
     "status": "completed"
    },
    "tags": []
   },
   "outputs": [
    {
     "data": {
      "text/plain": [
       "[2007]"
      ]
     },
     "execution_count": 9,
     "metadata": {},
     "output_type": "execute_result"
    }
   ],
   "source": [
    "united_df.index[united_df['name'] == 'Tropico 5'].tolist()"
   ]
  },
  {
   "cell_type": "code",
   "execution_count": 10,
   "id": "78227098",
   "metadata": {
    "execution": {
     "iopub.execute_input": "2023-04-24T14:26:17.672358Z",
     "iopub.status.busy": "2023-04-24T14:26:17.671895Z",
     "iopub.status.idle": "2023-04-24T14:26:17.681580Z",
     "shell.execute_reply": "2023-04-24T14:26:17.679935Z"
    },
    "papermill": {
     "duration": 0.024352,
     "end_time": "2023-04-24T14:26:17.684396",
     "exception": false,
     "start_time": "2023-04-24T14:26:17.660044",
     "status": "completed"
    },
    "tags": []
   },
   "outputs": [
    {
     "data": {
      "text/plain": [
       "'counter-strike valve action fps multiplayer'"
      ]
     },
     "execution_count": 10,
     "metadata": {},
     "output_type": "execute_result"
    }
   ],
   "source": [
    "# How it looks\n",
    "united_df['alls'][0]"
   ]
  },
  {
   "cell_type": "code",
   "execution_count": 11,
   "id": "8369afad",
   "metadata": {
    "execution": {
     "iopub.execute_input": "2023-04-24T14:26:17.708768Z",
     "iopub.status.busy": "2023-04-24T14:26:17.708290Z",
     "iopub.status.idle": "2023-04-24T14:26:17.716952Z",
     "shell.execute_reply": "2023-04-24T14:26:17.714983Z"
    },
    "papermill": {
     "duration": 0.025488,
     "end_time": "2023-04-24T14:26:17.720737",
     "exception": false,
     "start_time": "2023-04-24T14:26:17.695249",
     "status": "completed"
    },
    "tags": []
   },
   "outputs": [
    {
     "data": {
      "text/plain": [
       "'tropico 5 haemimont games strategy simulation city builder'"
      ]
     },
     "execution_count": 11,
     "metadata": {},
     "output_type": "execute_result"
    }
   ],
   "source": [
    "# How it looks\n",
    "united_df['alls'][2007]"
   ]
  },
  {
   "cell_type": "code",
   "execution_count": 12,
   "id": "5bec732f",
   "metadata": {
    "execution": {
     "iopub.execute_input": "2023-04-24T14:26:17.745295Z",
     "iopub.status.busy": "2023-04-24T14:26:17.744881Z",
     "iopub.status.idle": "2023-04-24T14:26:41.473932Z",
     "shell.execute_reply": "2023-04-24T14:26:41.472312Z"
    },
    "papermill": {
     "duration": 23.744152,
     "end_time": "2023-04-24T14:26:41.476918",
     "exception": false,
     "start_time": "2023-04-24T14:26:17.732766",
     "status": "completed"
    },
    "tags": []
   },
   "outputs": [],
   "source": [
    "# Convert a collection of text documents to a matrix of token counts\n",
    "count_vec = CountVectorizer(stop_words='english')\n",
    "count_matrix = count_vec.fit_transform(united_df['alls'])\n",
    "\n",
    "# Compute cosine similarity\n",
    "cosine_sim = cosine_similarity(count_matrix, count_matrix)"
   ]
  },
  {
   "cell_type": "code",
   "execution_count": 13,
   "id": "3aae6f27",
   "metadata": {
    "execution": {
     "iopub.execute_input": "2023-04-24T14:26:41.500166Z",
     "iopub.status.busy": "2023-04-24T14:26:41.499677Z",
     "iopub.status.idle": "2023-04-24T14:26:42.485487Z",
     "shell.execute_reply": "2023-04-24T14:26:42.484088Z"
    },
    "papermill": {
     "duration": 1.00108,
     "end_time": "2023-04-24T14:26:42.488847",
     "exception": false,
     "start_time": "2023-04-24T14:26:41.487767",
     "status": "completed"
    },
    "tags": []
   },
   "outputs": [
    {
     "name": "stdout",
     "output_type": "stream",
     "text": [
      "[nltk_data] Downloading package stopwords to /usr/share/nltk_data...\n",
      "[nltk_data]   Package stopwords is already up-to-date!\n",
      "[nltk_data] Downloading package wordnet to /usr/share/nltk_data...\n",
      "[nltk_data]   Package wordnet is already up-to-date!\n",
      "[nltk_data] Downloading package punkt to /usr/share/nltk_data...\n",
      "[nltk_data]   Package punkt is already up-to-date!\n"
     ]
    },
    {
     "data": {
      "text/plain": [
       "True"
      ]
     },
     "execution_count": 13,
     "metadata": {},
     "output_type": "execute_result"
    }
   ],
   "source": [
    "import string # used for preprocessing\n",
    "import re # used for preprocessing\n",
    "import nltk # the Natural Language Toolkit, used for preprocessing\n",
    "from nltk.tokenize import word_tokenize\n",
    "from nltk.corpus import stopwords # used for preprocessing\n",
    "from nltk.stem import WordNetLemmatizer\n",
    "nltk.download('stopwords')\n",
    "nltk.download('wordnet')\n",
    "nltk.download('punkt')"
   ]
  },
  {
   "cell_type": "code",
   "execution_count": 14,
   "id": "e084a85f",
   "metadata": {
    "execution": {
     "iopub.execute_input": "2023-04-24T14:26:42.513418Z",
     "iopub.status.busy": "2023-04-24T14:26:42.512931Z",
     "iopub.status.idle": "2023-04-24T14:26:44.200270Z",
     "shell.execute_reply": "2023-04-24T14:26:44.199056Z"
    },
    "papermill": {
     "duration": 1.703909,
     "end_time": "2023-04-24T14:26:44.203688",
     "exception": false,
     "start_time": "2023-04-24T14:26:42.499779",
     "status": "completed"
    },
    "tags": []
   },
   "outputs": [
    {
     "name": "stdout",
     "output_type": "stream",
     "text": [
      "Archive:  /usr/share/nltk_data/corpora/wordnet.zip\r\n",
      "   creating: /usr/share/nltk_data/corpora/wordnet/\r\n",
      "  inflating: /usr/share/nltk_data/corpora/wordnet/lexnames  \r\n",
      "  inflating: /usr/share/nltk_data/corpora/wordnet/data.verb  \r\n",
      "  inflating: /usr/share/nltk_data/corpora/wordnet/index.adv  \r\n",
      "  inflating: /usr/share/nltk_data/corpora/wordnet/adv.exc  \r\n",
      "  inflating: /usr/share/nltk_data/corpora/wordnet/index.verb  \r\n",
      "  inflating: /usr/share/nltk_data/corpora/wordnet/cntlist.rev  \r\n",
      "  inflating: /usr/share/nltk_data/corpora/wordnet/data.adj  \r\n",
      "  inflating: /usr/share/nltk_data/corpora/wordnet/index.adj  \r\n",
      "  inflating: /usr/share/nltk_data/corpora/wordnet/LICENSE  \r\n",
      "  inflating: /usr/share/nltk_data/corpora/wordnet/citation.bib  \r\n",
      "  inflating: /usr/share/nltk_data/corpora/wordnet/noun.exc  \r\n",
      "  inflating: /usr/share/nltk_data/corpora/wordnet/verb.exc  \r\n",
      "  inflating: /usr/share/nltk_data/corpora/wordnet/README  \r\n",
      "  inflating: /usr/share/nltk_data/corpora/wordnet/index.sense  \r\n",
      "  inflating: /usr/share/nltk_data/corpora/wordnet/data.noun  \r\n",
      "  inflating: /usr/share/nltk_data/corpora/wordnet/data.adv  \r\n",
      "  inflating: /usr/share/nltk_data/corpora/wordnet/index.noun  \r\n",
      "  inflating: /usr/share/nltk_data/corpora/wordnet/adj.exc  \r\n"
     ]
    }
   ],
   "source": [
    "!unzip /usr/share/nltk_data/corpora/wordnet.zip -d /usr/share/nltk_data/corpora/"
   ]
  },
  {
   "cell_type": "code",
   "execution_count": 15,
   "id": "9acd1464",
   "metadata": {
    "execution": {
     "iopub.execute_input": "2023-04-24T14:26:44.229450Z",
     "iopub.status.busy": "2023-04-24T14:26:44.228333Z",
     "iopub.status.idle": "2023-04-24T14:26:44.247304Z",
     "shell.execute_reply": "2023-04-24T14:26:44.246044Z"
    },
    "papermill": {
     "duration": 0.035654,
     "end_time": "2023-04-24T14:26:44.250271",
     "exception": false,
     "start_time": "2023-04-24T14:26:44.214617",
     "status": "completed"
    },
    "tags": []
   },
   "outputs": [],
   "source": [
    "# remove urls, handles, and the hashtag from hashtags (taken from https://stackoverflow.com/questions/8376691/how-to-remove-hashtag-user-link-of-a-tweet-using-regular-expression)\n",
    "def remove_urls(text):\n",
    "    new_text = ' '.join(re.sub(\"(@[A-Za-z0-9]+)|([^0-9A-Za-z \\t])|(\\w+:\\/\\/\\S+)\",\" \",text).split())\n",
    "    return new_text\n",
    "# make all text lowercase\n",
    "def text_lowercase(text):\n",
    "    return text.lower()\n",
    "# remove numbers\n",
    "def remove_numbers(text):\n",
    "    result = re.sub(r'\\d+', '', text)\n",
    "    return result\n",
    "# remove punctuation\n",
    "def remove_punctuation(text):\n",
    "    translator = str.maketrans('', '', string.punctuation)\n",
    "    return text.translate(translator)\n",
    "# tokenize\n",
    "def tokenize(text):\n",
    "    text = word_tokenize(text)\n",
    "    return text\n",
    "# remove stopwords\n",
    "stop_words = set(stopwords.words('english'))\n",
    "def remove_stopwords(text):\n",
    "    text = [i for i in text if not i in stop_words]\n",
    "    return text\n",
    "# lemmatize\n",
    "lemmatizer = WordNetLemmatizer()\n",
    "def lemmatize(text):\n",
    "    text = [lemmatizer.lemmatize(token) for token in text]\n",
    "    return text\n",
    "\n",
    "def preprocessing(text):\n",
    "    text = text_lowercase(text)\n",
    "    text = remove_urls(text)\n",
    "    text = remove_numbers(text)\n",
    "    text = remove_punctuation(text)\n",
    "    text = tokenize(text)\n",
    "    text = remove_stopwords(text)\n",
    "    text = lemmatize(text)\n",
    "    text = ' '.join(text)\n",
    "    return text"
   ]
  },
  {
   "cell_type": "code",
   "execution_count": 16,
   "id": "5abc4791",
   "metadata": {
    "execution": {
     "iopub.execute_input": "2023-04-24T14:26:44.275058Z",
     "iopub.status.busy": "2023-04-24T14:26:44.274226Z",
     "iopub.status.idle": "2023-04-24T14:26:56.938291Z",
     "shell.execute_reply": "2023-04-24T14:26:56.936909Z"
    },
    "papermill": {
     "duration": 12.680048,
     "end_time": "2023-04-24T14:26:56.941575",
     "exception": false,
     "start_time": "2023-04-24T14:26:44.261527",
     "status": "completed"
    },
    "tags": []
   },
   "outputs": [],
   "source": [
    "united_df['short_description']=united_df['short_description'].apply(preprocessing)"
   ]
  },
  {
   "cell_type": "code",
   "execution_count": 17,
   "id": "d28efded",
   "metadata": {
    "execution": {
     "iopub.execute_input": "2023-04-24T14:26:56.965523Z",
     "iopub.status.busy": "2023-04-24T14:26:56.965061Z",
     "iopub.status.idle": "2023-04-24T14:26:56.974480Z",
     "shell.execute_reply": "2023-04-24T14:26:56.973154Z"
    },
    "papermill": {
     "duration": 0.024694,
     "end_time": "2023-04-24T14:26:56.977313",
     "exception": false,
     "start_time": "2023-04-24T14:26:56.952619",
     "status": "completed"
    },
    "tags": []
   },
   "outputs": [
    {
     "data": {
      "text/plain": [
       "0    play world number online action game engage in...\n",
       "1    one popular online action game time team fortr...\n",
       "2    enlist intense brand axis v allied teamplay se...\n",
       "3    enjoy fast paced multiplayer gaming deathmatch...\n",
       "4    return black mesa research facility one milita...\n",
       "Name: short_description, dtype: object"
      ]
     },
     "execution_count": 17,
     "metadata": {},
     "output_type": "execute_result"
    }
   ],
   "source": [
    "united_df['short_description'].head()"
   ]
  },
  {
   "cell_type": "code",
   "execution_count": 18,
   "id": "2b9fef74",
   "metadata": {
    "execution": {
     "iopub.execute_input": "2023-04-24T14:26:57.001672Z",
     "iopub.status.busy": "2023-04-24T14:26:57.000994Z",
     "iopub.status.idle": "2023-04-24T14:26:57.006926Z",
     "shell.execute_reply": "2023-04-24T14:26:57.006064Z"
    },
    "papermill": {
     "duration": 0.021001,
     "end_time": "2023-04-24T14:26:57.009448",
     "exception": false,
     "start_time": "2023-04-24T14:26:56.988447",
     "status": "completed"
    },
    "tags": []
   },
   "outputs": [
    {
     "data": {
      "text/plain": [
       "'play world number online action game engage incredibly realistic brand terrorist warfare wildly popular team based game ally teammate complete strategic mission take enemy site rescue hostage role affect team success team success affect role'"
      ]
     },
     "execution_count": 18,
     "metadata": {},
     "output_type": "execute_result"
    }
   ],
   "source": [
    "united_df['short_description'][0]"
   ]
  },
  {
   "cell_type": "code",
   "execution_count": 19,
   "id": "6c0d336a",
   "metadata": {
    "execution": {
     "iopub.execute_input": "2023-04-24T14:26:57.034501Z",
     "iopub.status.busy": "2023-04-24T14:26:57.033850Z",
     "iopub.status.idle": "2023-04-24T14:26:57.039912Z",
     "shell.execute_reply": "2023-04-24T14:26:57.038908Z"
    },
    "papermill": {
     "duration": 0.021184,
     "end_time": "2023-04-24T14:26:57.042376",
     "exception": false,
     "start_time": "2023-04-24T14:26:57.021192",
     "status": "completed"
    },
    "tags": []
   },
   "outputs": [
    {
     "data": {
      "text/plain": [
       "'return remote island nation tropico expand dynasty reign early colonial period beyond st century facing new challenge including advanced trading mechanic technology scientific research well cooperative competitive multiplayer'"
      ]
     },
     "execution_count": 19,
     "metadata": {},
     "output_type": "execute_result"
    }
   ],
   "source": [
    "united_df['short_description'][2007]"
   ]
  },
  {
   "cell_type": "code",
   "execution_count": 20,
   "id": "03b364b2",
   "metadata": {
    "execution": {
     "iopub.execute_input": "2023-04-24T14:26:57.066948Z",
     "iopub.status.busy": "2023-04-24T14:26:57.066162Z",
     "iopub.status.idle": "2023-04-24T14:27:42.353163Z",
     "shell.execute_reply": "2023-04-24T14:27:42.351291Z"
    },
    "papermill": {
     "duration": 45.302836,
     "end_time": "2023-04-24T14:27:42.356372",
     "exception": false,
     "start_time": "2023-04-24T14:26:57.053536",
     "status": "completed"
    },
    "tags": []
   },
   "outputs": [],
   "source": [
    "# Convert a collection of raw documents to a matrix of TF-IDF features\n",
    "tfidf = TfidfVectorizer(stop_words='english')\n",
    "tfidf_matrix = tfidf.fit_transform(united_df['short_description'])\n",
    "\n",
    "# Stack sparse matrices horizontally\n",
    "st = hstack([count_matrix, tfidf_matrix])\n",
    "\n",
    "# Compute cosine similarity\n",
    "cosine_sim2 = cosine_similarity(st, st)\n",
    "cosine_sim_again = cosine_similarity(tfidf_matrix, tfidf_matrix)"
   ]
  },
  {
   "cell_type": "code",
   "execution_count": 21,
   "id": "873462f1",
   "metadata": {
    "execution": {
     "iopub.execute_input": "2023-04-24T14:27:42.381983Z",
     "iopub.status.busy": "2023-04-24T14:27:42.381502Z",
     "iopub.status.idle": "2023-04-24T14:27:42.389350Z",
     "shell.execute_reply": "2023-04-24T14:27:42.387978Z"
    },
    "papermill": {
     "duration": 0.023912,
     "end_time": "2023-04-24T14:27:42.392024",
     "exception": false,
     "start_time": "2023-04-24T14:27:42.368112",
     "status": "completed"
    },
    "tags": []
   },
   "outputs": [],
   "source": [
    "# The main function that makes recommendations\n",
    "def get_rec(nam:str, cosine):\n",
    "#     Determine the index\n",
    "    ind = united_df[united_df['name'] == nam].index.to_list()[0]\n",
    "    \n",
    "#     Obtaining cosine convergence by index\n",
    "    cos_scor = list(enumerate(cosine[ind]))\n",
    "    \n",
    "#     Getting the most suitable games\n",
    "    cos_scor = sorted(cos_scor, key=lambda x: x[1], reverse=True)\n",
    "    cos_scor = cos_scor[1:11]\n",
    "    ten_ind = [i[0] for i in cos_scor]\n",
    "    return united_df['name'].iloc[ten_ind]"
   ]
  },
  {
   "cell_type": "code",
   "execution_count": 22,
   "id": "1347fca7",
   "metadata": {
    "execution": {
     "iopub.execute_input": "2023-04-24T14:27:42.416482Z",
     "iopub.status.busy": "2023-04-24T14:27:42.416082Z",
     "iopub.status.idle": "2023-04-24T14:27:42.508850Z",
     "shell.execute_reply": "2023-04-24T14:27:42.506754Z"
    },
    "papermill": {
     "duration": 0.108307,
     "end_time": "2023-04-24T14:27:42.511851",
     "exception": false,
     "start_time": "2023-04-24T14:27:42.403544",
     "status": "completed"
    },
    "tags": []
   },
   "outputs": [
    {
     "name": "stdout",
     "output_type": "stream",
     "text": [
      "Recommendation for S.T.A.L.K.E.R.: Shadow of Chernobyl \n",
      "\n",
      "Recommendations using game name, developer, genre tags \n",
      "\n",
      "846          S.T.A.L.K.E.R.: Call of Pripyat\n",
      "471                S.T.A.L.K.E.R.: Clear Sky\n",
      "509                                Fallout 3\n",
      "6209                               Fallout 4\n",
      "514      Fallout 3: Game of the Year Edition\n",
      "17577      BLOCK WARRIORS: \"Open World\" Game\n",
      "2961      Hard Truck Apocalypse / Ex Machina\n",
      "7196                    World Ship Simulator\n",
      "14447                           Fallout 4 VR\n",
      "515                       Fallout: New Vegas\n",
      "Name: name, dtype: object \n",
      "\n",
      "Recommendations using game name, developer, genre tags and description \n",
      "\n",
      "None\n",
      "846          S.T.A.L.K.E.R.: Call of Pripyat\n",
      "471                S.T.A.L.K.E.R.: Clear Sky\n",
      "509                                Fallout 3\n",
      "6209                               Fallout 4\n",
      "514      Fallout 3: Game of the Year Edition\n",
      "17577      BLOCK WARRIORS: \"Open World\" Game\n",
      "7196                    World Ship Simulator\n",
      "14447                           Fallout 4 VR\n",
      "2961      Hard Truck Apocalypse / Ex Machina\n",
      "515                       Fallout: New Vegas\n",
      "Name: name, dtype: object\n"
     ]
    }
   ],
   "source": [
    "# Example 1\n",
    "naz = \"S.T.A.L.K.E.R.: Shadow of Chernobyl\"\n",
    "print('Recommendation for', naz, '\\n')\n",
    "print('Recommendations using game name, developer, genre tags \\n')\n",
    "print(get_rec(naz, cosine_sim),'\\n')\n",
    "print(print('Recommendations using game name, developer, genre tags and description \\n'))\n",
    "print(get_rec(naz, cosine_sim2))"
   ]
  },
  {
   "cell_type": "code",
   "execution_count": 23,
   "id": "9d958a16",
   "metadata": {
    "execution": {
     "iopub.execute_input": "2023-04-24T14:27:42.540001Z",
     "iopub.status.busy": "2023-04-24T14:27:42.538767Z",
     "iopub.status.idle": "2023-04-24T14:27:42.596992Z",
     "shell.execute_reply": "2023-04-24T14:27:42.595923Z"
    },
    "papermill": {
     "duration": 0.075103,
     "end_time": "2023-04-24T14:27:42.600139",
     "exception": false,
     "start_time": "2023-04-24T14:27:42.525036",
     "status": "completed"
    },
    "tags": []
   },
   "outputs": [
    {
     "name": "stdout",
     "output_type": "stream",
     "text": [
      "Recommendation for Call of Duty® 4: Modern Warfare® \n",
      "\n",
      "Recommendations using game name, developer, genre tags \n",
      "\n",
      "279              Call of Duty®: Modern Warfare® 2\n",
      "3176              Call of Duty®: Infinite Warfare\n",
      "72                                Call of Duty® 2\n",
      "6802    Call of Duty®: Modern Warfare® Remastered\n",
      "1432                        Call of Duty®: Ghosts\n",
      "71                                  Call of Duty®\n",
      "1518        Call of Duty: Black Ops - Mac Edition\n",
      "3702                 Call of Duty®: Black Ops III\n",
      "1304                  Call of Duty®: Black Ops II\n",
      "5                                        Ricochet\n",
      "Name: name, dtype: object \n",
      "\n",
      "Recommendations using game name, developer, genre tags and description \n",
      "\n",
      "None\n",
      "279              Call of Duty®: Modern Warfare® 2\n",
      "3176              Call of Duty®: Infinite Warfare\n",
      "72                                Call of Duty® 2\n",
      "6802    Call of Duty®: Modern Warfare® Remastered\n",
      "1432                        Call of Duty®: Ghosts\n",
      "71                                  Call of Duty®\n",
      "1518        Call of Duty: Black Ops - Mac Edition\n",
      "3702                 Call of Duty®: Black Ops III\n",
      "1304                  Call of Duty®: Black Ops II\n",
      "5                                        Ricochet\n",
      "Name: name, dtype: object\n"
     ]
    }
   ],
   "source": [
    "# Example 2\n",
    "naz = \"Call of Duty® 4: Modern Warfare®\"\n",
    "print('Recommendation for', naz, '\\n')\n",
    "print('Recommendations using game name, developer, genre tags \\n')\n",
    "print(get_rec(naz, cosine_sim),'\\n')\n",
    "print(print('Recommendations using game name, developer, genre tags and description \\n'))\n",
    "print(get_rec(naz, cosine_sim2))"
   ]
  },
  {
   "cell_type": "code",
   "execution_count": 24,
   "id": "ebe591c0",
   "metadata": {
    "execution": {
     "iopub.execute_input": "2023-04-24T14:27:42.625648Z",
     "iopub.status.busy": "2023-04-24T14:27:42.625152Z",
     "iopub.status.idle": "2023-04-24T14:27:42.683540Z",
     "shell.execute_reply": "2023-04-24T14:27:42.681769Z"
    },
    "papermill": {
     "duration": 0.074828,
     "end_time": "2023-04-24T14:27:42.686540",
     "exception": false,
     "start_time": "2023-04-24T14:27:42.611712",
     "status": "completed"
    },
    "tags": []
   },
   "outputs": [
    {
     "name": "stdout",
     "output_type": "stream",
     "text": [
      "Recommendation for Tropico 5 \n",
      "\n",
      "Recommendations using game name, developer, genre tags \n",
      "\n",
      "1010                         Tropico 4\n",
      "2007                         Tropico 5\n",
      "528                   Grand Ages: Rome\n",
      "526      Imperium Romanum Gold Edition\n",
      "11086                        Caesar™ 3\n",
      "13365                      Constructor\n",
      "1416        Omerta - City of Gangsters\n",
      "5224                      Urban Empire\n",
      "9352                    Surviving Mars\n",
      "12795              Pharaoh + Cleopatra\n",
      "Name: name, dtype: object \n",
      "\n",
      "Recommendation for Tropico 5 \n",
      "\n",
      "Recommendations using game name, developer, genre tags and description \n",
      "\n",
      "None\n",
      "1010                         Tropico 4\n",
      "530                          Tropico 3\n",
      "528                   Grand Ages: Rome\n",
      "526      Imperium Romanum Gold Edition\n",
      "11086                        Caesar™ 3\n",
      "677                   Tropico Reloaded\n",
      "9352                    Surviving Mars\n",
      "5224                      Urban Empire\n",
      "12795              Pharaoh + Cleopatra\n",
      "1416        Omerta - City of Gangsters\n",
      "Name: name, dtype: object\n"
     ]
    }
   ],
   "source": [
    "# Example 3\n",
    "naz = \"Tropico 5\"\n",
    "print('Recommendation for', naz, '\\n')\n",
    "print('Recommendations using game name, developer, genre tags \\n')\n",
    "print(get_rec(naz, cosine_sim),'\\n')\n",
    "print('Recommendation for', naz, '\\n')\n",
    "print(print('Recommendations using game name, developer, genre tags and description \\n'))\n",
    "print(get_rec(naz, cosine_sim2))"
   ]
  },
  {
   "cell_type": "code",
   "execution_count": 25,
   "id": "751d5a92",
   "metadata": {
    "execution": {
     "iopub.execute_input": "2023-04-24T14:27:42.711991Z",
     "iopub.status.busy": "2023-04-24T14:27:42.711563Z",
     "iopub.status.idle": "2023-04-24T14:27:42.742573Z",
     "shell.execute_reply": "2023-04-24T14:27:42.740633Z"
    },
    "papermill": {
     "duration": 0.047661,
     "end_time": "2023-04-24T14:27:42.745936",
     "exception": false,
     "start_time": "2023-04-24T14:27:42.698275",
     "status": "completed"
    },
    "tags": []
   },
   "outputs": [
    {
     "name": "stdout",
     "output_type": "stream",
     "text": [
      "Recommendation for Tropico 5 \n",
      "\n",
      "Recommendations using game description \n",
      "\n",
      "None\n",
      "868               Victoria II\n",
      "1110         Pride of Nations\n",
      "677          Tropico Reloaded\n",
      "20053               Citystate\n",
      "8310            Stellar Stars\n",
      "19531                 Souland\n",
      "1010                Tropico 4\n",
      "18066     Reigns: Her Majesty\n",
      "869       Victoria I Complete\n",
      "11475    Operation: New Earth\n",
      "Name: name, dtype: object\n"
     ]
    }
   ],
   "source": [
    "naz = \"Tropico 5\"\n",
    "print('Recommendation for', naz, '\\n')\n",
    "print(print('Recommendations using game description \\n'))\n",
    "print(get_rec(naz, cosine_sim_again))"
   ]
  },
  {
   "cell_type": "code",
   "execution_count": 26,
   "id": "18456cc1",
   "metadata": {
    "execution": {
     "iopub.execute_input": "2023-04-24T14:27:42.771732Z",
     "iopub.status.busy": "2023-04-24T14:27:42.771271Z",
     "iopub.status.idle": "2023-04-24T14:27:42.791772Z",
     "shell.execute_reply": "2023-04-24T14:27:42.790077Z"
    },
    "papermill": {
     "duration": 0.037312,
     "end_time": "2023-04-24T14:27:42.795146",
     "exception": false,
     "start_time": "2023-04-24T14:27:42.757834",
     "status": "completed"
    },
    "tags": []
   },
   "outputs": [],
   "source": [
    "united_df['alls'] = united_df['alls'] + \" \" + united_df['short_description']"
   ]
  },
  {
   "cell_type": "code",
   "execution_count": 27,
   "id": "623a0e49",
   "metadata": {
    "execution": {
     "iopub.execute_input": "2023-04-24T14:27:42.822126Z",
     "iopub.status.busy": "2023-04-24T14:27:42.821239Z",
     "iopub.status.idle": "2023-04-24T14:27:42.830545Z",
     "shell.execute_reply": "2023-04-24T14:27:42.829124Z"
    },
    "papermill": {
     "duration": 0.026187,
     "end_time": "2023-04-24T14:27:42.833458",
     "exception": false,
     "start_time": "2023-04-24T14:27:42.807271",
     "status": "completed"
    },
    "tags": []
   },
   "outputs": [
    {
     "data": {
      "text/plain": [
       "'counter-strike valve action fps multiplayer play world number online action game engage incredibly realistic brand terrorist warfare wildly popular team based game ally teammate complete strategic mission take enemy site rescue hostage role affect team success team success affect role'"
      ]
     },
     "execution_count": 27,
     "metadata": {},
     "output_type": "execute_result"
    }
   ],
   "source": [
    "united_df['alls'][0]"
   ]
  },
  {
   "cell_type": "code",
   "execution_count": 28,
   "id": "7b76c186",
   "metadata": {
    "execution": {
     "iopub.execute_input": "2023-04-24T14:27:42.861853Z",
     "iopub.status.busy": "2023-04-24T14:27:42.861414Z",
     "iopub.status.idle": "2023-04-24T14:27:42.872035Z",
     "shell.execute_reply": "2023-04-24T14:27:42.869870Z"
    },
    "papermill": {
     "duration": 0.028315,
     "end_time": "2023-04-24T14:27:42.875110",
     "exception": false,
     "start_time": "2023-04-24T14:27:42.846795",
     "status": "completed"
    },
    "tags": []
   },
   "outputs": [
    {
     "data": {
      "text/plain": [
       "'tropico 5 haemimont games strategy simulation city builder return remote island nation tropico expand dynasty reign early colonial period beyond st century facing new challenge including advanced trading mechanic technology scientific research well cooperative competitive multiplayer'"
      ]
     },
     "execution_count": 28,
     "metadata": {},
     "output_type": "execute_result"
    }
   ],
   "source": [
    "united_df['alls'][2007]"
   ]
  },
  {
   "cell_type": "code",
   "execution_count": 29,
   "id": "d58a36ea",
   "metadata": {
    "execution": {
     "iopub.execute_input": "2023-04-24T14:27:42.901611Z",
     "iopub.status.busy": "2023-04-24T14:27:42.901140Z",
     "iopub.status.idle": "2023-04-24T14:27:42.909353Z",
     "shell.execute_reply": "2023-04-24T14:27:42.907823Z"
    },
    "papermill": {
     "duration": 0.024804,
     "end_time": "2023-04-24T14:27:42.911983",
     "exception": false,
     "start_time": "2023-04-24T14:27:42.887179",
     "status": "completed"
    },
    "tags": []
   },
   "outputs": [
    {
     "data": {
      "text/plain": [
       "'play world number online action game engage incredibly realistic brand terrorist warfare wildly popular team based game ally teammate complete strategic mission take enemy site rescue hostage role affect team success team success affect role'"
      ]
     },
     "execution_count": 29,
     "metadata": {},
     "output_type": "execute_result"
    }
   ],
   "source": [
    "united_df['short_description'][0]"
   ]
  },
  {
   "cell_type": "code",
   "execution_count": 30,
   "id": "38242374",
   "metadata": {
    "execution": {
     "iopub.execute_input": "2023-04-24T14:27:42.939489Z",
     "iopub.status.busy": "2023-04-24T14:27:42.939044Z",
     "iopub.status.idle": "2023-04-24T14:27:43.058290Z",
     "shell.execute_reply": "2023-04-24T14:27:43.056958Z"
    },
    "papermill": {
     "duration": 0.137002,
     "end_time": "2023-04-24T14:27:43.061254",
     "exception": false,
     "start_time": "2023-04-24T14:27:42.924252",
     "status": "completed"
    },
    "tags": []
   },
   "outputs": [],
   "source": [
    "corpus = []\n",
    "for words in united_df['alls']:\n",
    "    corpus.append(words.split())"
   ]
  },
  {
   "cell_type": "code",
   "execution_count": 31,
   "id": "c484cec2",
   "metadata": {
    "execution": {
     "iopub.execute_input": "2023-04-24T14:27:43.087080Z",
     "iopub.status.busy": "2023-04-24T14:27:43.086629Z",
     "iopub.status.idle": "2023-04-24T14:27:43.344340Z",
     "shell.execute_reply": "2023-04-24T14:27:43.342897Z"
    },
    "papermill": {
     "duration": 0.274209,
     "end_time": "2023-04-24T14:27:43.347382",
     "exception": false,
     "start_time": "2023-04-24T14:27:43.073173",
     "status": "completed"
    },
    "tags": []
   },
   "outputs": [],
   "source": [
    "from gensim.models import Word2Vec"
   ]
  },
  {
   "cell_type": "code",
   "execution_count": 32,
   "id": "110f206e",
   "metadata": {
    "execution": {
     "iopub.execute_input": "2023-04-24T14:27:43.373850Z",
     "iopub.status.busy": "2023-04-24T14:27:43.373341Z",
     "iopub.status.idle": "2023-04-24T14:27:44.508171Z",
     "shell.execute_reply": "2023-04-24T14:27:44.506600Z"
    },
    "papermill": {
     "duration": 1.152135,
     "end_time": "2023-04-24T14:27:44.511639",
     "exception": false,
     "start_time": "2023-04-24T14:27:43.359504",
     "status": "completed"
    },
    "tags": []
   },
   "outputs": [
    {
     "data": {
      "text/plain": [
       "(0, 0)"
      ]
     },
     "execution_count": 32,
     "metadata": {},
     "output_type": "execute_result"
    }
   ],
   "source": [
    "# EMBEDDING_FILE = \"/kaggle/input/googlenewsvectorsnegative300/GoogleNews-vectors-negative300.bin\"\n",
    "# google_word2vec = KeyedVectors.load_word2vec_format(EMBEDDING_FILE, binary=True)\n",
    "\n",
    "google_model = Word2Vec(vector_size = 300, window=5, min_count = 2, workers = -1)\n",
    "google_model.build_vocab(corpus)\n",
    "\n",
    "# google_model.wv.intersect_word2vec_format(EMBEDDING_FILE, lockf=1, binary=True)\n",
    "\n",
    "google_model.train(corpus, total_examples=google_model.corpus_count, epochs = 5)"
   ]
  },
  {
   "cell_type": "code",
   "execution_count": 33,
   "id": "cb65f5e1",
   "metadata": {
    "execution": {
     "iopub.execute_input": "2023-04-24T14:27:44.540761Z",
     "iopub.status.busy": "2023-04-24T14:27:44.539456Z",
     "iopub.status.idle": "2023-04-24T14:27:48.784883Z",
     "shell.execute_reply": "2023-04-24T14:27:48.783506Z"
    },
    "papermill": {
     "duration": 4.263574,
     "end_time": "2023-04-24T14:27:48.788034",
     "exception": false,
     "start_time": "2023-04-24T14:27:44.524460",
     "status": "completed"
    },
    "tags": []
   },
   "outputs": [],
   "source": [
    "tfidf = TfidfVectorizer(analyzer='word', ngram_range=(1, 3), min_df = 5, stop_words='english')\n",
    "tfidf.fit(united_df['alls'])\n",
    "\n",
    "tfidf_list = dict(zip(tfidf.get_feature_names_out(), list(tfidf.idf_)))\n",
    "tfidf_feature = tfidf.get_feature_names_out()"
   ]
  },
  {
   "cell_type": "code",
   "execution_count": 34,
   "id": "f71d005d",
   "metadata": {
    "execution": {
     "iopub.execute_input": "2023-04-24T14:27:48.814646Z",
     "iopub.status.busy": "2023-04-24T14:27:48.814203Z",
     "iopub.status.idle": "2023-04-24T14:27:48.821784Z",
     "shell.execute_reply": "2023-04-24T14:27:48.819639Z"
    },
    "papermill": {
     "duration": 0.024947,
     "end_time": "2023-04-24T14:27:48.825256",
     "exception": false,
     "start_time": "2023-04-24T14:27:48.800309",
     "status": "completed"
    },
    "tags": []
   },
   "outputs": [],
   "source": [
    "from tqdm import tqdm"
   ]
  },
  {
   "cell_type": "code",
   "execution_count": 35,
   "id": "3caaf8e5",
   "metadata": {
    "execution": {
     "iopub.execute_input": "2023-04-24T14:27:48.853264Z",
     "iopub.status.busy": "2023-04-24T14:27:48.852839Z",
     "iopub.status.idle": "2023-04-24T14:46:21.952729Z",
     "shell.execute_reply": "2023-04-24T14:46:21.950084Z"
    },
    "papermill": {
     "duration": 1113.117946,
     "end_time": "2023-04-24T14:46:21.956114",
     "exception": false,
     "start_time": "2023-04-24T14:27:48.838168",
     "status": "completed"
    },
    "tags": []
   },
   "outputs": [
    {
     "name": "stderr",
     "output_type": "stream",
     "text": [
      "100%|██████████| 27798/27798 [18:33<00:00, 24.97it/s]\n"
     ]
    }
   ],
   "source": [
    "tfidf_vectors = []; \n",
    "line = 0;\n",
    "for desc in tqdm(corpus): \n",
    "    sent_vec = np.zeros(300) \n",
    "    weight_sum =0; \n",
    "    for word in desc: \n",
    "        if word in google_model.wv.key_to_index and word in tfidf_feature:\n",
    "            vec = google_model.wv[word]\n",
    "            tf_idf = tfidf_list[word] * (desc.count(word) / len(desc))\n",
    "            sent_vec += (vec * tf_idf)\n",
    "            weight_sum += tf_idf\n",
    "    if weight_sum != 0:\n",
    "        sent_vec /= weight_sum\n",
    "    tfidf_vectors.append(sent_vec)\n",
    "    line += 1"
   ]
  },
  {
   "cell_type": "code",
   "execution_count": 36,
   "id": "3f767696",
   "metadata": {
    "execution": {
     "iopub.execute_input": "2023-04-24T14:46:23.061205Z",
     "iopub.status.busy": "2023-04-24T14:46:23.060595Z",
     "iopub.status.idle": "2023-04-24T14:46:32.434833Z",
     "shell.execute_reply": "2023-04-24T14:46:32.432870Z"
    },
    "papermill": {
     "duration": 9.945933,
     "end_time": "2023-04-24T14:46:32.440799",
     "exception": false,
     "start_time": "2023-04-24T14:46:22.494866",
     "status": "completed"
    },
    "tags": []
   },
   "outputs": [],
   "source": [
    "cosine_similarities = cosine_similarity(tfidf_vectors,  tfidf_vectors)"
   ]
  },
  {
   "cell_type": "code",
   "execution_count": 37,
   "id": "0c2b7438",
   "metadata": {
    "execution": {
     "iopub.execute_input": "2023-04-24T14:46:33.761904Z",
     "iopub.status.busy": "2023-04-24T14:46:33.761081Z",
     "iopub.status.idle": "2023-04-24T14:46:33.817642Z",
     "shell.execute_reply": "2023-04-24T14:46:33.815916Z"
    },
    "papermill": {
     "duration": 0.627327,
     "end_time": "2023-04-24T14:46:33.821210",
     "exception": false,
     "start_time": "2023-04-24T14:46:33.193883",
     "status": "completed"
    },
    "tags": []
   },
   "outputs": [
    {
     "name": "stdout",
     "output_type": "stream",
     "text": [
      "Recommendation for Counter-Strike \n",
      "\n",
      "Recommendations using game name, developer, genre tags \n",
      "\n",
      "17649                   Astroe\n",
      "1        Team Fortress Classic\n",
      "10565       Team Racing League\n",
      "24129    Team A.R.G. Anthology\n",
      "14937                 RUGBY 18\n",
      "9934                Mr. Shifty\n",
      "6329                 Teeworlds\n",
      "1690                Sven Co-op\n",
      "16366                WarFallen\n",
      "23118            Delta Horizon\n",
      "Name: name, dtype: object \n",
      "\n"
     ]
    }
   ],
   "source": [
    "naz = \"Counter-Strike\"\n",
    "print('Recommendation for', naz, '\\n')\n",
    "print('Recommendations using game name, developer, genre tags \\n')\n",
    "print(get_rec(naz, cosine_similarities),'\\n')"
   ]
  },
  {
   "cell_type": "code",
   "execution_count": 38,
   "id": "66586773",
   "metadata": {
    "execution": {
     "iopub.execute_input": "2023-04-24T14:46:35.043990Z",
     "iopub.status.busy": "2023-04-24T14:46:35.043024Z",
     "iopub.status.idle": "2023-04-24T14:46:35.085520Z",
     "shell.execute_reply": "2023-04-24T14:46:35.083990Z"
    },
    "papermill": {
     "duration": 0.615875,
     "end_time": "2023-04-24T14:46:35.088866",
     "exception": false,
     "start_time": "2023-04-24T14:46:34.472991",
     "status": "completed"
    },
    "tags": []
   },
   "outputs": [
    {
     "name": "stdout",
     "output_type": "stream",
     "text": [
      "Recommendation for Counter-Strike \n",
      "\n",
      "Recommendations using game name, developer, genre tags \n",
      "\n",
      "17649                   Astroe\n",
      "1        Team Fortress Classic\n",
      "10565       Team Racing League\n",
      "24129    Team A.R.G. Anthology\n",
      "14937                 RUGBY 18\n",
      "9934                Mr. Shifty\n",
      "6329                 Teeworlds\n",
      "1690                Sven Co-op\n",
      "16366                WarFallen\n",
      "23118            Delta Horizon\n",
      "Name: name, dtype: object \n",
      "\n"
     ]
    }
   ],
   "source": [
    "naz = \"Counter-Strike\"\n",
    "print('Recommendation for', naz, '\\n')\n",
    "print('Recommendations using game name, developer, genre tags \\n')\n",
    "print(get_rec(naz, cosine_similarities),'\\n')"
   ]
  },
  {
   "cell_type": "code",
   "execution_count": 39,
   "id": "567d39ec",
   "metadata": {
    "execution": {
     "iopub.execute_input": "2023-04-24T14:46:36.301530Z",
     "iopub.status.busy": "2023-04-24T14:46:36.301102Z",
     "iopub.status.idle": "2023-04-24T14:46:36.347520Z",
     "shell.execute_reply": "2023-04-24T14:46:36.344250Z"
    },
    "papermill": {
     "duration": 0.682408,
     "end_time": "2023-04-24T14:46:36.351757",
     "exception": false,
     "start_time": "2023-04-24T14:46:35.669349",
     "status": "completed"
    },
    "tags": []
   },
   "outputs": [
    {
     "name": "stdout",
     "output_type": "stream",
     "text": [
      "Recommendation for Tropico 5 \n",
      "\n",
      "Recommendations using game name, developer, genre tags \n",
      "\n",
      "677                                       Tropico Reloaded\n",
      "1010                                             Tropico 4\n",
      "10064                                            Tropico 6\n",
      "530                                              Tropico 3\n",
      "12482                                   Robot City Stadium\n",
      "7524     Where Angels Cry: Tears of the Fallen (Collect...\n",
      "528                                       Grand Ages: Rome\n",
      "5224                                          Urban Empire\n",
      "10356                                   Crystal Control II\n",
      "25957                                          Contractors\n",
      "Name: name, dtype: object \n",
      "\n"
     ]
    }
   ],
   "source": [
    "naz = \"Tropico 5\"\n",
    "print('Recommendation for', naz, '\\n')\n",
    "print('Recommendations using game name, developer, genre tags \\n')\n",
    "print(get_rec(naz, cosine_similarities),'\\n')"
   ]
  },
  {
   "cell_type": "code",
   "execution_count": null,
   "id": "f3af6fc6",
   "metadata": {
    "papermill": {
     "duration": 0.548416,
     "end_time": "2023-04-24T14:46:37.462117",
     "exception": false,
     "start_time": "2023-04-24T14:46:36.913701",
     "status": "completed"
    },
    "tags": []
   },
   "outputs": [],
   "source": []
  }
 ],
 "metadata": {
  "kernelspec": {
   "display_name": "Python 3",
   "language": "python",
   "name": "python3"
  },
  "language_info": {
   "codemirror_mode": {
    "name": "ipython",
    "version": 3
   },
   "file_extension": ".py",
   "mimetype": "text/x-python",
   "name": "python",
   "nbconvert_exporter": "python",
   "pygments_lexer": "ipython3",
   "version": "3.7.12"
  },
  "papermill": {
   "default_parameters": {},
   "duration": 1238.544194,
   "end_time": "2023-04-24T14:46:40.643059",
   "environment_variables": {},
   "exception": null,
   "input_path": "__notebook__.ipynb",
   "output_path": "__notebook__.ipynb",
   "parameters": {},
   "start_time": "2023-04-24T14:26:02.098865",
   "version": "2.4.0"
  }
 },
 "nbformat": 4,
 "nbformat_minor": 5
}
