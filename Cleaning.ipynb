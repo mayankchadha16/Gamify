{
 "cells": [
  {
   "cell_type": "code",
   "execution_count": 70,
   "metadata": {},
   "outputs": [],
   "source": [
    "import pandas as pd\n",
    "from ast import literal_eval\n",
    "import itertools\n",
    "import numpy as np\n",
    "import warnings\n",
    "warnings.filterwarnings('ignore')"
   ]
  },
  {
   "cell_type": "code",
   "execution_count": 71,
   "metadata": {},
   "outputs": [],
   "source": [
    "app = pd.read_csv(\"Data/app_list.csv\")\n",
    "steam_data = pd.read_csv(\"Data/steam_app_data.csv\")\n",
    "steam_spy = pd.read_csv(\"Data/steamspy_data.csv\")"
   ]
  },
  {
   "cell_type": "code",
   "execution_count": 72,
   "metadata": {},
   "outputs": [],
   "source": [
    "steam_data.drop(['type', 'controller_support', 'screenshots', 'achievements', \"support_info\", \"dlc\", 'fullgame', 'legal_notice', 'drm_notice', 'ext_user_account_notice', 'demos','price_overview','packages','package_groups', 'header_image', 'website', 'metacritic', 'reviews', 'background', 'detailed_description', 'publishers', 'background', 'movies', 'recommendations', 'supported_languages', 'pc_requirements', 'mac_requirements', 'linux_requirements'], axis=1, inplace=True)\n"
   ]
  },
  {
   "cell_type": "code",
   "execution_count": 73,
   "metadata": {},
   "outputs": [],
   "source": [
    "steam_data = steam_data[steam_data['is_free'].notna()]\n",
    "steam_data = steam_data[steam_data['required_age'].notna()]"
   ]
  },
  {
   "cell_type": "code",
   "execution_count": 74,
   "metadata": {},
   "outputs": [
    {
     "name": "stdout",
     "output_type": "stream",
     "text": [
      "Exported tag data to '../data/exports/steamspy_tag_data.csv'\n"
     ]
    }
   ],
   "source": [
    "def process_tags(df, export=False):\n",
    "    if export: \n",
    "\n",
    "        tag_data = df[['appid', 'tags']].copy()\n",
    "\n",
    "        def parse_export_tags(x):\n",
    "            x = literal_eval(x)\n",
    "\n",
    "            if isinstance(x, dict):\n",
    "                return x\n",
    "            elif isinstance(x, list):\n",
    "                return {}\n",
    "            else:\n",
    "                raise TypeError('Something other than dict or list found')\n",
    "\n",
    "        tag_data['tags'] = tag_data['tags'].apply(parse_export_tags)\n",
    "\n",
    "        cols = set(itertools.chain(*tag_data['tags']))\n",
    "\n",
    "        for col in sorted(cols):\n",
    "            col_name = col.lower().replace(' ', '_').replace('-', '_').replace(\"'\", \"\")\n",
    "\n",
    "            tag_data[col_name] = tag_data['tags'].apply(lambda x: x[col] if col in x.keys() else 0)\n",
    "\n",
    "        tag_data = tag_data.drop('tags', axis=1)\n",
    "\n",
    "    def parse_tags(x):\n",
    "        x = literal_eval(x)\n",
    "\n",
    "        return ';'.join(list(x.keys())[:3]) if isinstance(x, dict) else np.nan\n",
    "\n",
    "    df['tags'] = df['tags'].apply(parse_tags)\n",
    "\n",
    "    # rows with null tags seem to be superseded by newer release, so remove (e.g. dead island)\n",
    "    df = df[df['tags'].notnull()]\n",
    "\n",
    "    return df\n",
    "\n",
    "\n",
    "def process(df):\n",
    "    df = df.copy()\n",
    "    \n",
    "    # handle missing values\n",
    "    df = df[(df['name'].notnull()) & (df['name'] != 'none')]\n",
    "    df = df[df['developer'].notnull()]\n",
    "    df = df[df['languages'].notnull()]\n",
    "    df = df[df['price'].notnull()]\n",
    "    \n",
    "    # remove unwanted columns\n",
    "    df = df.drop([\n",
    "        'genre', 'developer', 'publisher', 'score_rank', 'userscore', 'average_2weeks',\n",
    "        'median_2weeks', 'price', 'initialprice', 'discount', 'ccu'\n",
    "    ], axis=1)\n",
    "    \n",
    "    # keep top tags, exporting full tag data to file\n",
    "    df = process_tags(df, export=True)\n",
    "    \n",
    "    # reformat owners column\n",
    "    df['owners'] = df['owners'].str.replace(',', '').str.replace(' .. ', '-')\n",
    "    \n",
    "    return df\n",
    "\n",
    "steam_spy = process(steam_spy)"
   ]
  },
  {
   "cell_type": "code",
   "execution_count": 75,
   "metadata": {},
   "outputs": [],
   "source": [
    "steam_data=steam_data.dropna().reset_index(drop=True)"
   ]
  },
  {
   "cell_type": "code",
   "execution_count": 76,
   "metadata": {},
   "outputs": [],
   "source": [
    "steam_spy=steam_spy.dropna().reset_index(drop=True)"
   ]
  },
  {
   "cell_type": "code",
   "execution_count": 77,
   "metadata": {},
   "outputs": [],
   "source": [
    "merged = steam_data.merge(steam_spy, left_on='steam_appid', right_on='appid', suffixes=('', '_steamspy'))"
   ]
  },
  {
   "cell_type": "code",
   "execution_count": 78,
   "metadata": {},
   "outputs": [],
   "source": [
    "merged.drop(['appid','name_steamspy', 'categories', 'genres', 'content_descriptors'], axis=1, inplace=True)"
   ]
  },
  {
   "cell_type": "code",
   "execution_count": 79,
   "metadata": {},
   "outputs": [],
   "source": [
    "merged.to_csv('clean_data.csv', index=False)"
   ]
  }
 ],
 "metadata": {
  "kernelspec": {
   "display_name": "Python 3",
   "language": "python",
   "name": "python3"
  },
  "language_info": {
   "codemirror_mode": {
    "name": "ipython",
    "version": 3
   },
   "file_extension": ".py",
   "mimetype": "text/x-python",
   "name": "python",
   "nbconvert_exporter": "python",
   "pygments_lexer": "ipython3",
   "version": "3.8.10"
  },
  "orig_nbformat": 4
 },
 "nbformat": 4,
 "nbformat_minor": 2
}
